{
  "cells": [
    {
      "cell_type": "markdown",
      "id": "b9ca3aa8-3150-4f2c-88fe-c8d1211ab462",
      "metadata": {
        "id": "b9ca3aa8-3150-4f2c-88fe-c8d1211ab462"
      },
      "source": [
        "# Chiron - A Feynman-Enhanced Learning Agent Using LangGraph\n",
        "\n",
        "## Overview\n",
        "This notebook presents a structured learning agent implemented using LangGraph. The system guides learners through a sequence of defined but customizable checkpoints, verifying understanding at each step and providing Feynman-style teaching when needed.\n",
        "\n",
        "## Motivation\n",
        "In traditional educational settings, access to personalized 1:1 tutoring is often limited by cost and availability. This project aims to democratize personalized learning by creating an AI tutor that can:\n",
        "- Provide individualized attention and feedback 24/7\n",
        "- Use your own notes and web-retrieved content as context\n",
        "- Offer patient, simple explanations of complex topics\n",
        "\n",
        "## Key Components\n",
        "1. **Learning State Graph**: Orchestrates the sequential learning workflow\n",
        "2. **Checkpoint System**: Defines structured learning milestones\n",
        "3. **Web Search Integration**: Dynamically retrieves relevant learning materials\n",
        "4. **Context Processing**: Chunks and processes learning materials\n",
        "5. **Question Generation**: Creates checkpoint-specific verification questions\n",
        "6. **Understanding Verification**: Evaluates learner comprehension with a clear threshold (70%)\n",
        "7. **Feynman Teaching**: Simplifies complex concepts when understanding is insufficient\n",
        "\n",
        "## Method\n",
        "The system follows a structured learning cycle:\n",
        "\n",
        "### 1. Checkpoint Definition\n",
        "- Generates sequential learning milestones with clear success criteria\n",
        "\n",
        "### 2. Context Building\n",
        "- Processes student-provided materials or retrieves relevant web content\n",
        "\n",
        "### 3. Context Validation\n",
        "- Validates context based on checkpoint criteria\n",
        "- Performs additional web searches if context doesn't meet checkpoint requirements\n",
        "\n",
        "### 4. Embedding Storage\n",
        "- Stores embeddings for retrieving only relevant chunks during verification\n",
        "\n",
        "### 5. Understanding Verification\n",
        "- Generates checkpoint-specific questions\n",
        "- Evaluates responses against a 70% understanding threshold\n",
        "- Provides detailed feedback\n",
        "\n",
        "### 6. Progressive Learning\n",
        "- Advances to the next checkpoint when understanding is verified\n",
        "- Provides Feynman-style explanations when needed\n",
        "\n",
        "## Conclusion\n",
        "This notebook demonstrates a structured approach to guided learning. By combining sequential checkpoints, clear verification thresholds, and Feynman-style teaching, it offers a methodical learning experience with immediate support when needed. The system is particularly effective for complex topics that benefit from step-by-step guidance and simplified explanations.\n",
        "\n",
        "![Chiron](https://github.com/NirDiamant/GenAI_Agents/blob/main/images/chiron.svg?raw=1)"
      ]
    },
    {
      "cell_type": "markdown",
      "id": "7bd42e1e-fd75-4719-8590-fd912560482f",
      "metadata": {
        "id": "7bd42e1e-fd75-4719-8590-fd912560482f"
      },
      "source": [
        "## Requirements"
      ]
    },
    {
      "cell_type": "code",
      "execution_count": 1,
      "id": "fcfe0224-298f-480f-93b4-b74a1058f34b",
      "metadata": {
        "id": "fcfe0224-298f-480f-93b4-b74a1058f34b",
        "outputId": "648b16b5-73a3-43e1-d838-1229b8612af0",
        "colab": {
          "base_uri": "https://localhost:8080/"
        }
      },
      "outputs": [
        {
          "output_type": "stream",
          "name": "stdout",
          "text": [
            "\u001b[2K     \u001b[90m━━━━━━━━━━━━━━━━━━━━━━━━━━━━━━━━━━━━━━━━\u001b[0m \u001b[32m91.6/91.6 kB\u001b[0m \u001b[31m3.7 MB/s\u001b[0m eta \u001b[36m0:00:00\u001b[0m\n",
            "\u001b[2K     \u001b[90m━━━━━━━━━━━━━━━━━━━━━━━━━━━━━━━━━━━━━━━━\u001b[0m \u001b[32m61.0/61.0 kB\u001b[0m \u001b[31m3.6 MB/s\u001b[0m eta \u001b[36m0:00:00\u001b[0m\n",
            "\u001b[2K     \u001b[90m━━━━━━━━━━━━━━━━━━━━━━━━━━━━━━━━━━━━━━━━\u001b[0m \u001b[32m40.9/40.9 kB\u001b[0m \u001b[31m2.7 MB/s\u001b[0m eta \u001b[36m0:00:00\u001b[0m\n",
            "\u001b[2K     \u001b[90m━━━━━━━━━━━━━━━━━━━━━━━━━━━━━━━━━━━━━━━━\u001b[0m \u001b[32m43.5/43.5 kB\u001b[0m \u001b[31m3.0 MB/s\u001b[0m eta \u001b[36m0:00:00\u001b[0m\n",
            "\u001b[2K   \u001b[90m━━━━━━━━━━━━━━━━━━━━━━━━━━━━━━━━━━━━━━━━\u001b[0m \u001b[32m2.5/2.5 MB\u001b[0m \u001b[31m38.6 MB/s\u001b[0m eta \u001b[36m0:00:00\u001b[0m\n",
            "\u001b[2K   \u001b[90m━━━━━━━━━━━━━━━━━━━━━━━━━━━━━━━━━━━━━━━━\u001b[0m \u001b[32m61.3/61.3 kB\u001b[0m \u001b[31m4.8 MB/s\u001b[0m eta \u001b[36m0:00:00\u001b[0m\n",
            "\u001b[2K   \u001b[90m━━━━━━━━━━━━━━━━━━━━━━━━━━━━━━━━━━━━━━━━\u001b[0m \u001b[32m42.0/42.0 kB\u001b[0m \u001b[31m2.9 MB/s\u001b[0m eta \u001b[36m0:00:00\u001b[0m\n",
            "\u001b[2K   \u001b[90m━━━━━━━━━━━━━━━━━━━━━━━━━━━━━━━━━━━━━━━━\u001b[0m \u001b[32m142.4/142.4 kB\u001b[0m \u001b[31m9.4 MB/s\u001b[0m eta \u001b[36m0:00:00\u001b[0m\n",
            "\u001b[2K   \u001b[90m━━━━━━━━━━━━━━━━━━━━━━━━━━━━━━━━━━━━━━━━\u001b[0m \u001b[32m84.8/84.8 kB\u001b[0m \u001b[31m6.6 MB/s\u001b[0m eta \u001b[36m0:00:00\u001b[0m\n",
            "\u001b[2K   \u001b[90m━━━━━━━━━━━━━━━━━━━━━━━━━━━━━━━━━━━━━━━━\u001b[0m \u001b[32m44.4/44.4 kB\u001b[0m \u001b[31m3.1 MB/s\u001b[0m eta \u001b[36m0:00:00\u001b[0m\n",
            "\u001b[2K   \u001b[90m━━━━━━━━━━━━━━━━━━━━━━━━━━━━━━━━━━━━━━━━\u001b[0m \u001b[32m259.2/259.2 kB\u001b[0m \u001b[31m16.1 MB/s\u001b[0m eta \u001b[36m0:00:00\u001b[0m\n",
            "\u001b[2K   \u001b[90m━━━━━━━━━━━━━━━━━━━━━━━━━━━━━━━━━━━━━━━━\u001b[0m \u001b[32m1.4/1.4 MB\u001b[0m \u001b[31m62.6 MB/s\u001b[0m eta \u001b[36m0:00:00\u001b[0m\n",
            "\u001b[2K   \u001b[90m━━━━━━━━━━━━━━━━━━━━━━━━━━━━━━━━━━━━━━━━\u001b[0m \u001b[32m42.0/42.0 kB\u001b[0m \u001b[31m3.1 MB/s\u001b[0m eta \u001b[36m0:00:00\u001b[0m\n",
            "\u001b[2K   \u001b[90m━━━━━━━━━━━━━━━━━━━━━━━━━━━━━━━━━━━━━━━━\u001b[0m \u001b[32m47.2/47.2 kB\u001b[0m \u001b[31m3.6 MB/s\u001b[0m eta \u001b[36m0:00:00\u001b[0m\n",
            "\u001b[2K   \u001b[90m━━━━━━━━━━━━━━━━━━━━━━━━━━━━━━━━━━━━━━━━\u001b[0m \u001b[32m18.3/18.3 MB\u001b[0m \u001b[31m87.5 MB/s\u001b[0m eta \u001b[36m0:00:00\u001b[0m\n",
            "\u001b[2K   \u001b[90m━━━━━━━━━━━━━━━━━━━━━━━━━━━━━━━━━━━━━━━━\u001b[0m \u001b[32m785.1/785.1 kB\u001b[0m \u001b[31m42.3 MB/s\u001b[0m eta \u001b[36m0:00:00\u001b[0m\n",
            "\u001b[2K   \u001b[90m━━━━━━━━━━━━━━━━━━━━━━━━━━━━━━━━━━━━━━━━\u001b[0m \u001b[32m1.2/1.2 MB\u001b[0m \u001b[31m55.2 MB/s\u001b[0m eta \u001b[36m0:00:00\u001b[0m\n",
            "\u001b[2K   \u001b[90m━━━━━━━━━━━━━━━━━━━━━━━━━━━━━━━━━━━━━━━━\u001b[0m \u001b[32m194.8/194.8 kB\u001b[0m \u001b[31m14.4 MB/s\u001b[0m eta \u001b[36m0:00:00\u001b[0m\n",
            "\u001b[2K   \u001b[90m━━━━━━━━━━━━━━━━━━━━━━━━━━━━━━━━━━━━━━━━\u001b[0m \u001b[32m3.3/3.3 MB\u001b[0m \u001b[31m76.1 MB/s\u001b[0m eta \u001b[36m0:00:00\u001b[0m\n",
            "\u001b[2K   \u001b[90m━━━━━━━━━━━━━━━━━━━━━━━━━━━━━━━━━━━━━━━━\u001b[0m \u001b[32m50.9/50.9 kB\u001b[0m \u001b[31m3.7 MB/s\u001b[0m eta \u001b[36m0:00:00\u001b[0m\n",
            "\u001b[2K   \u001b[90m━━━━━━━━━━━━━━━━━━━━━━━━━━━━━━━━━━━━━━━━\u001b[0m \u001b[32m223.6/223.6 kB\u001b[0m \u001b[31m16.4 MB/s\u001b[0m eta \u001b[36m0:00:00\u001b[0m\n",
            "\u001b[?25h\u001b[31mERROR: pip's dependency resolver does not currently take into account all the packages that are installed. This behaviour is the source of the following dependency conflicts.\n",
            "google-generativeai 0.8.4 requires google-ai-generativelanguage==0.6.15, but you have google-ai-generativelanguage 0.6.17 which is incompatible.\u001b[0m\u001b[31m\n",
            "\u001b[0m"
          ]
        }
      ],
      "source": [
        "!pip --q install langchain-community langchain-openai langchain-google-genai langgraph pydantic python-dotenv semantic-chunkers semantic-router tavily-python"
      ]
    },
    {
      "cell_type": "markdown",
      "id": "ac466075-3839-4c1b-b135-12edd7c8b3b7",
      "metadata": {
        "id": "ac466075-3839-4c1b-b135-12edd7c8b3b7"
      },
      "source": [
        "# Imports"
      ]
    },
    {
      "cell_type": "code",
      "execution_count": 8,
      "id": "eea06412-9aca-45ea-b901-ed8a34619920",
      "metadata": {
        "id": "eea06412-9aca-45ea-b901-ed8a34619920"
      },
      "outputs": [],
      "source": [
        "import os\n",
        "import operator\n",
        "import uuid\n",
        "from typing import Annotated, Dict, List, Optional, Tuple, TypedDict\n",
        "\n",
        "from IPython.display import Image, display\n",
        "from langchain_community.utils.math import cosine_similarity\n",
        "from langchain_community.tools.tavily_search import TavilySearchResults\n",
        "from langchain_core.messages import HumanMessage, SystemMessage\n",
        "from langchain_openai import ChatOpenAI, OpenAIEmbeddings\n",
        "from langgraph.checkpoint.memory import MemorySaver\n",
        "from langgraph.store.memory import InMemoryStore\n",
        "from langgraph.graph import END, START, StateGraph\n",
        "from pydantic import BaseModel, Field\n",
        "from dotenv import load_dotenv\n",
        "from semantic_chunkers import StatisticalChunker\n",
        "from semantic_router.encoders import OpenAIEncoder\n",
        "from langchain_google_genai import ChatGoogleGenerativeAI\n",
        "from google.colab import userdata\n",
        "from langchain_google_genai import ChatGoogleGenerativeAI, GoogleGenerativeAIEmbeddings"
      ]
    },
    {
      "cell_type": "markdown",
      "id": "3d6d6d45-c4ad-4135-a437-37124997668d",
      "metadata": {
        "id": "3d6d6d45-c4ad-4135-a437-37124997668d"
      },
      "source": [
        "# Setup\n",
        "This agent is implemented using OpenAI's models, but can be used also with self-hosted LLM and embedding models."
      ]
    },
    {
      "cell_type": "code",
      "execution_count": 9,
      "id": "9e4327f7-05dc-4be0-a7e0-ac7eb47bbfa4",
      "metadata": {
        "id": "9e4327f7-05dc-4be0-a7e0-ac7eb47bbfa4"
      },
      "outputs": [],
      "source": [
        "load_dotenv()\n",
        "os.environ[\"GOOGLE_API_KEY\"] = userdata.get('GOOGLE_API_KEY')\n",
        "#TavilySearch\n",
        "os.environ[\"TAVILY_API_KEY\"] = userdata.get('TAVILY_API_KEY')\n",
        "\n",
        "tavily_search = TavilySearchResults(max_results=3)\n",
        "llm = ChatGoogleGenerativeAI(\n",
        "    model=\"gemini-2.0-flash-001\",\n",
        "    max_retries=2,\n",
        ")\n",
        "#embeddings = OpenAIEmbeddings(model=\"text-embedding-3-large\")\n",
        "embeddings = GoogleGenerativeAIEmbeddings(model=\"models/text-embedding-004\")"
      ]
    },
    {
      "cell_type": "markdown",
      "id": "559c60be-7291-418d-b2db-ecef5f429d3d",
      "metadata": {
        "id": "559c60be-7291-418d-b2db-ecef5f429d3d"
      },
      "source": [
        "## Data Models Definition\n",
        "In this section, we define the core data structures for our adaptive learning system using Pydantic models. These models ensure type safety and provide clear structure for:\n",
        "- Learning goals and objectives\n",
        "- Checkpoint definitions and tracking\n",
        "- Search queries for dynamic content\n",
        "- Verification of learning progress\n",
        "- Feynman teaching output format\n",
        "- Question generation\n",
        "\n",
        "Each model is designed to capture specific aspects of the learning process while maintaining strict type validation."
      ]
    },
    {
      "cell_type": "code",
      "execution_count": 10,
      "id": "0ecf74ec-9aca-4023-ac71-c095bf68f194",
      "metadata": {
        "id": "0ecf74ec-9aca-4023-ac71-c095bf68f194"
      },
      "outputs": [],
      "source": [
        "class Goals(BaseModel):\n",
        "    \"\"\"Structure for defining learning goals\"\"\"\n",
        "    goals: str = Field(None, description=\"Learning goals\")\n",
        "\n",
        "class LearningCheckpoint(BaseModel):\n",
        "    \"\"\"Structure for a single checkpoint\"\"\"\n",
        "    description: str = Field(..., description=\"Main checkpoint description\")\n",
        "    criteria: List[str] = Field(..., description=\"List of success criteria\")\n",
        "    verification: str = Field(..., description=\"How to verify this checkpoint\")\n",
        "\n",
        "class Checkpoints(BaseModel):\n",
        "    \"\"\"Main checkpoints container with index tracking\"\"\"\n",
        "    checkpoints: List[LearningCheckpoint] = Field(\n",
        "        ...,\n",
        "        description=\"List of checkpoints covering foundation, application, and mastery levels\"\n",
        "    )\n",
        "\n",
        "class SearchQuery(BaseModel):\n",
        "    \"\"\"Structure for search query collection\"\"\"\n",
        "    search_queries: list = Field(None, description=\"Search queries for retrieval.\")\n",
        "\n",
        "class LearningVerification(BaseModel):\n",
        "    \"\"\"Structure for verification results\"\"\"\n",
        "    understanding_level: float = Field(..., ge=0, le=1)\n",
        "    feedback: str\n",
        "    suggestions: List[str]\n",
        "    context_alignment: bool\n",
        "\n",
        "class FeynmanTeaching(BaseModel):\n",
        "    \"\"\"Structure for Feynman teaching method\"\"\"\n",
        "    simplified_explanation: str\n",
        "    key_concepts: List[str]\n",
        "    analogies: List[str]\n",
        "\n",
        "class QuestionOutput(BaseModel):\n",
        "    \"\"\"Structure for question generation output\"\"\"\n",
        "    question: str\n",
        "\n",
        "class InContext(BaseModel):\n",
        "    \"\"\"Structure for context verification\"\"\"\n",
        "    is_in_context: str = Field(..., description=\"Yes or No\")"
      ]
    },
    {
      "cell_type": "markdown",
      "id": "855943ac-3129-4da0-8bb6-7f180044e90c",
      "metadata": {
        "id": "855943ac-3129-4da0-8bb6-7f180044e90c"
      },
      "source": [
        "## Learning State Definition\n",
        "Here we define the main state for our agent. This state tracks:\n",
        "- The learning topic and goals\n",
        "- Context and search results\n",
        "- Current progress through checkpoints\n",
        "- Verification results and teaching outputs\n",
        "- Current question-answer pair"
      ]
    },
    {
      "cell_type": "code",
      "execution_count": 11,
      "id": "f4028e38-ca23-48ab-93ed-f490e2ce4a71",
      "metadata": {
        "id": "f4028e38-ca23-48ab-93ed-f490e2ce4a71"
      },
      "outputs": [],
      "source": [
        "class LearningtState(TypedDict):\n",
        "    topic: str\n",
        "    goals: List[Goals]\n",
        "    context: str\n",
        "    context_chunks: Annotated[list, operator.add]\n",
        "    context_key: str\n",
        "    search_queries: SearchQuery\n",
        "    checkpoints: Checkpoints\n",
        "    verifications: LearningVerification\n",
        "    teachings: FeynmanTeaching\n",
        "    current_checkpoint: int\n",
        "    current_question: QuestionOutput\n",
        "    current_answer: str"
      ]
    },
    {
      "cell_type": "markdown",
      "id": "6f6d49c1-3107-45aa-aa23-8caf9a4effef",
      "metadata": {
        "id": "6f6d49c1-3107-45aa-aa23-8caf9a4effef"
      },
      "source": [
        "## Helper Functions\n",
        "The system uses three utility functions:\n",
        "\n",
        "1. `extract_content_from_chunks`: Processes and combines text chunks into coherent content\n",
        "\n",
        "2. `format_checkpoints_as_message`: Converts checkpoint data into prompt format\n",
        "\n",
        "3. `generate_checkpoint_message`: Creates formatted message for context retrieval"
      ]
    },
    {
      "cell_type": "code",
      "execution_count": 12,
      "id": "4667d407-5f13-4095-93da-dd082b1b4a2b",
      "metadata": {
        "id": "4667d407-5f13-4095-93da-dd082b1b4a2b"
      },
      "outputs": [],
      "source": [
        "def extract_content_from_chunks(chunks):\n",
        "    \"\"\"Extract and combine content from chunks with splits attribute.\n",
        "\n",
        "    Args:\n",
        "        chunks: List of chunk objects that may contain splits attribute\n",
        "\n",
        "    Returns:\n",
        "        str: Combined content from all chunks joined with newlines\n",
        "    \"\"\"\n",
        "    content = []\n",
        "\n",
        "    for chunk in chunks:\n",
        "        if hasattr(chunk, 'splits') and chunk.splits:\n",
        "            chunk_content = ' '.join(chunk.splits)\n",
        "            content.append(chunk_content)\n",
        "\n",
        "    return '\\n'.join(content)\n",
        "\n",
        "def format_checkpoints_as_message(checkpoints: Checkpoints) -> str:\n",
        "    \"\"\"Convert Checkpoints object to a formatted string for the message.\n",
        "\n",
        "    Args:\n",
        "        checkpoints (Checkpoints): Checkpoints object containing learning checkpoints\n",
        "\n",
        "    Returns:\n",
        "        str: Formatted string containing numbered checkpoints with descriptions and criteria\n",
        "    \"\"\"\n",
        "    message = \"Here are the learning checkpoints:\\n\\n\"\n",
        "    for i, checkpoint in enumerate(checkpoints.checkpoints, 1):\n",
        "        message += f\"Checkpoint {i}:\\n\"\n",
        "        message += f\"Description: {checkpoint.description}\\n\"\n",
        "        message += \"Success Criteria:\\n\"\n",
        "        for criterion in checkpoint.criteria:\n",
        "            message += f\"- {criterion}\\n\"\n",
        "    return message\n",
        "\n",
        "def generate_checkpoint_message(checks: List[LearningCheckpoint]) -> HumanMessage:\n",
        "    \"\"\"Generate a formatted message for learning checkpoints that need context.\n",
        "\n",
        "    Args:\n",
        "        checks (List[LearningCheckpoint]): List of learning checkpoint objects\n",
        "\n",
        "    Returns:\n",
        "        HumanMessage: Formatted message containing checkpoint descriptions, criteria and\n",
        "                     verification methods, ready for context search\n",
        "    \"\"\"\n",
        "    formatted_checks = []\n",
        "\n",
        "    for check in checks:\n",
        "        checkpoint_text = f\"\"\"\n",
        "        Description: {check.description}\n",
        "        Success Criteria:\n",
        "        {chr(10).join(f'- {criterion}' for criterion in check.criteria)}\n",
        "        Verification Method: {check.verification}\n",
        "        \"\"\"\n",
        "        formatted_checks.append(checkpoint_text)\n",
        "\n",
        "    all_checks = \"\\n---\\n\".join(formatted_checks)\n",
        "\n",
        "    checkpoints_message = HumanMessage(content=f\"\"\"The following learning checkpoints need additional context:\n",
        "        {all_checks}\n",
        "\n",
        "        Please generate search queries to find relevant information.\"\"\")\n",
        "\n",
        "    return checkpoints_message"
      ]
    },
    {
      "cell_type": "markdown",
      "id": "0ed58db0-afa2-4591-90f0-51d7027f36e3",
      "metadata": {
        "id": "0ed58db0-afa2-4591-90f0-51d7027f36e3"
      },
      "source": [
        "## Prompt Configuration\n",
        "Here we define the core instruction prompts for our LLM. Each message serves a specific purpose in the learning process:\n",
        "\n",
        "1. `learning_checkpoints_generator`: Creates structured learning milestones with clear criteria\n",
        "2. `checkpoint_based_query_generator`: Generates targeted search queries for content retrieval\n",
        "3. `question_generator`: Creates verification questions aligned with checkpoints\n",
        "4. `answer_verifier`: Evaluates learner responses against success criteria\n",
        "5. `feynman_teacher`: Crafts simplified explanations using the Feynman technique"
      ]
    },
    {
      "cell_type": "code",
      "execution_count": 13,
      "id": "b803f4dd-b580-40de-95f6-a973927c74b0",
      "metadata": {
        "id": "b803f4dd-b580-40de-95f6-a973927c74b0"
      },
      "outputs": [],
      "source": [
        "learning_checkpoints_generator = SystemMessage(content=\"\"\"You will be given a learning topic title and learning objectives.\n",
        "Your goal is to generate clear learning checkpoints that will help verify understanding and progress through the topic.\n",
        "The output should be in the following dictionary structure:\n",
        "checkpoint\n",
        "-> description (level checkpoint description)\n",
        "-> criteria\n",
        "-> verification (How to verify this checkpoint (Feynman Methods))\n",
        "Requirements for each checkpoint:\n",
        "- Description should be clear and concise\n",
        "- Criteria should be specific and measurable (3-5 items)\n",
        "- Verification method should be practical and appropriate for the level\n",
        "- Verification will be checked by language model, so it must by in natural language\n",
        "- All elements should align with the learning objectives\n",
        "- Use action verbs and clear language\n",
        "Ensure all checkpoints progress logically from foundation to mastery.\n",
        "IMPORTANT - ANSWER ONLY 3 CHECKPOINTS\"\"\")\n",
        "\n",
        "checkpoint_based_query_generator = SystemMessage(content=\"\"\"You will be given learning checkpoints for a topic.\n",
        "Your goal is to generate search queries that will retrieve content matching each checkpoint's requirements from retrieval systems or web search.\n",
        "Follow these steps:\n",
        "1. Analyze each learning checkpoint carefully\n",
        "2. For each checkpoint, generate ONE targeted search query that will retrieve:\n",
        "   - Content for checkpoint verification\"\"\")\n",
        "\n",
        "validate_context = SystemMessage(content=\"\"\"You will be given a learning criteria and context.\n",
        "Check if the the criteria could be answered using the context.\n",
        "Always answer YES or NO\"\"\")\n",
        "\n",
        "question_generator = SystemMessage(content=\"\"\"You will be given a checkpoint description, success criteria, and verification method.\n",
        "Your goal is to generate an appropriate question that aligns with the checkpoint's verification requirements.\n",
        "The question should:\n",
        "1. Follow the specified verification method\n",
        "2. Cover all success criteria\n",
        "3. Encourage demonstration of understanding\n",
        "4. Be clear and specific\n",
        "Output should be a single, well-formulated question that effectively tests the checkpoint's learning objectives.\"\"\")\n",
        "\n",
        "answer_verifier = SystemMessage(content=\"\"\"You will be given a student's answer, question, checkpoint details, and relevant context.\n",
        "Your goal is to analyze the answer against the checkpoint criteria and provided context.\n",
        "Analyze considering:\n",
        "1. Alignment with verification method specified\n",
        "2. Coverage of all success criteria\n",
        "3. Use of relevant concepts from context\n",
        "4. Depth and accuracy of understanding\n",
        "Output should include:\n",
        "- understanding_level: float between 0 and 1\n",
        "- feedback: detailed explanation of the assessment\n",
        "- suggestions: list of specific improvements\n",
        "- context_alignment: boolean indicating if the answer aligns with provided context\"\"\")\n",
        "\n",
        "feynman_teacher = SystemMessage(content=\"\"\"You will be given verification results, checkpoint criteria, and learning context.\n",
        "Your goal is to create a Feynman-style teaching explanation for concepts that need reinforcement.\n",
        "The explanation should include:\n",
        "1. Simplified explanation without technical jargon\n",
        "2. Concrete, relatable analogies\n",
        "3. Key concepts to remember\n",
        "Output should follow the Feynman technique:\n",
        "- simplified_explanation: clear, jargon-free explanation\n",
        "- key_concepts: list of essential points\n",
        "- analogies: list of relevant, concrete comparisons\n",
        "Focus on making complex ideas accessible and memorable.\"\"\")\n"
      ]
    },
    {
      "cell_type": "markdown",
      "id": "438fbce1-78c8-449a-9494-491399c53a23",
      "metadata": {
        "id": "438fbce1-78c8-449a-9494-491399c53a23"
      },
      "source": [
        "## Context Storage\n",
        "The `ContextStore` class manages context chunks and embeddings in memory, optimizing token usage by allowing access to only relevant context during answer verification."
      ]
    },
    {
      "cell_type": "code",
      "execution_count": 14,
      "id": "a228f761-da38-4d23-9add-b5178698a6b4",
      "metadata": {
        "id": "a228f761-da38-4d23-9add-b5178698a6b4"
      },
      "outputs": [],
      "source": [
        "class ContextStore:\n",
        "    \"\"\"Store for managing context chunks and their embeddings in memory.\n",
        "\n",
        "    A class that provides storage and retrieval of context data using an in-memory store.\n",
        "    Each context entry consists of context chunks and their corresponding embeddings.\n",
        "    \"\"\"\n",
        "\n",
        "    def __init__(self):\n",
        "        \"\"\"Initialize ContextStore with an empty in-memory store.\"\"\"\n",
        "        self.store = InMemoryStore()\n",
        "\n",
        "    def save_context(self, context_chunks: list, embeddings: list, key: str = None):\n",
        "        \"\"\"Save context chunks and their embeddings to the store.\n",
        "\n",
        "        Args:\n",
        "            context_chunks (list): List of context chunk objects\n",
        "            embeddings (list): List of corresponding embeddings for the chunks\n",
        "            key (str, optional): Custom key for storing the context. Defaults to None,\n",
        "                               in which case a UUID is generated.\n",
        "\n",
        "        Returns:\n",
        "            str: The key used to store the context\n",
        "        \"\"\"\n",
        "        namespace = (\"context\",)\n",
        "\n",
        "        if key is None:\n",
        "            key = str(uuid.uuid4())\n",
        "\n",
        "        value = {\n",
        "            \"chunks\": context_chunks,\n",
        "            \"embeddings\": embeddings\n",
        "        }\n",
        "\n",
        "        self.store.put(namespace, key, value)\n",
        "        return key\n",
        "\n",
        "    def get_context(self, context_key: str):\n",
        "        \"\"\"Retrieve context data from the store using a key.\n",
        "\n",
        "        Args:\n",
        "            context_key (str): The key used to store the context\n",
        "\n",
        "        Returns:\n",
        "            dict: The stored context value containing chunks and embeddings\n",
        "        \"\"\"\n",
        "        namespace = (\"context\",)\n",
        "        memory = self.store.get(namespace, context_key)\n",
        "        return memory.value"
      ]
    },
    {
      "cell_type": "markdown",
      "id": "91bab2b6-c2c3-43ec-a705-ac7e97fe7a4a",
      "metadata": {
        "id": "91bab2b6-c2c3-43ec-a705-ac7e97fe7a4a"
      },
      "source": [
        "## Core Learning System Functions\n",
        "The learning system is powered by eight main functions that process and update the `LearningState`:\n",
        "\n",
        "### Content Generation and Processing\n",
        "1. `generate_checkpoints`: Creates learning milestones from topic and goals\n",
        "2. `generate_query`: Formulates checkpoint-based search queries\n",
        "3. `search_web`: Retrieves content via Tavilysearch\n",
        "5. `chunk_context`: Segments learning materials\n",
        "6. `context_validation`: Ensures context meets checkpoint requirements\n",
        "\n",
        "### Learning Verification and Support\n",
        "6. `generate_question`: Creates verification questions\n",
        "7. `verify_answer`: Evaluates against checkpoint criteria\n",
        "8. `teach_concept`: Provides Feynman-style explanations"
      ]
    },
    {
      "cell_type": "code",
      "execution_count": 15,
      "id": "9097d06e-cf59-476e-9200-247cadba83aa",
      "metadata": {
        "id": "9097d06e-cf59-476e-9200-247cadba83aa"
      },
      "outputs": [],
      "source": [
        "def generate_query(state: LearningtState):\n",
        "    \"\"\"Generates search queries based on learning checkpoints from current state.\"\"\"\n",
        "    structured_llm = llm.with_structured_output(SearchQuery)\n",
        "    checkpoints_message = HumanMessage(content=format_checkpoints_as_message(state['checkpoints']))\n",
        "    messages = [checkpoint_based_query_generator, checkpoints_message]\n",
        "    search_queries = structured_llm.invoke(messages)\n",
        "    return {\"search_queries\": search_queries}\n",
        "\n",
        "def search_web(state: LearningtState):\n",
        "    \"\"\"Retrieves and processes web search results based on search queries.\"\"\"\n",
        "    search_queries = state[\"search_queries\"].search_queries\n",
        "\n",
        "    all_search_docs = []\n",
        "    for query in search_queries:\n",
        "        search_docs = tavily_search.invoke(query)\n",
        "        all_search_docs.extend(search_docs)\n",
        "\n",
        "    formatted_search_docs = [\n",
        "        f'Context: {doc[\"content\"]}\\n Source: {doc[\"url\"]}\\n'\n",
        "        for doc in all_search_docs\n",
        "    ]\n",
        "\n",
        "    chunk_embeddings = embeddings.embed_documents(formatted_search_docs)\n",
        "    context_key = context_store.save_context(\n",
        "        formatted_search_docs,\n",
        "        chunk_embeddings,\n",
        "        key=state.get('context_key')\n",
        "    )\n",
        "\n",
        "    return {\"context_chunks\": formatted_search_docs}\n",
        "\n",
        "def generate_checkpoints(state: LearningtState):\n",
        "    \"\"\"Creates learning checkpoints based on given topic and goals.\"\"\"\n",
        "    structured_llm = llm.with_structured_output(Checkpoints)\n",
        "    messages = [\n",
        "        learning_checkpoints_generator,\n",
        "        SystemMessage(content=f\"Topic: {state['topic']}\"),\n",
        "        SystemMessage(content=f\"Goals: {', '.join(str(goal) for goal in state['goals'])}\")\n",
        "    ]\n",
        "    checkpoints = structured_llm.invoke(messages)\n",
        "    return {\"checkpoints\": checkpoints}\n",
        "\n",
        "def chunk_context(state: LearningtState):\n",
        "    \"\"\"Splits context into manageable chunks and generates their embeddings.\"\"\"\n",
        "    encoder = OpenAIEncoder(name=\"text-embedding-3-large\")\n",
        "    chunker = StatisticalChunker(\n",
        "        encoder=encoder,\n",
        "        min_split_tokens=128,\n",
        "        max_split_tokens=512\n",
        "    )\n",
        "\n",
        "    chunks = chunker([state['context']])\n",
        "    content = []\n",
        "    for chunk in chunks:\n",
        "        content.append(extract_content_from_chunks(chunk))\n",
        "\n",
        "    chunk_embeddings = embeddings.embed_documents(content)\n",
        "    context_key = context_store.save_context(\n",
        "        content,\n",
        "        chunk_embeddings,\n",
        "        key=state.get('context_key')\n",
        "    )\n",
        "    return {\"context_chunks\": content, \"context_key\": context_key}\n",
        "\n",
        "def context_validation(state: LearningtState):\n",
        "    \"\"\"Validates context coverage against checkpoint criteria using stored embeddings.\"\"\"\n",
        "    context = context_store.get_context(state['context_key'])\n",
        "    chunks = context['chunks']\n",
        "    chunk_embeddings = context['embeddings']\n",
        "\n",
        "    checks = []\n",
        "    structured_llm = llm.with_structured_output(InContext)\n",
        "\n",
        "    for checkpoint in state['checkpoints'].checkpoints:\n",
        "        query = embeddings.embed_query(checkpoint.verification)\n",
        "\n",
        "        similarities = cosine_similarity([query], chunk_embeddings)[0]\n",
        "        top_3_indices = sorted(range(len(similarities)),\n",
        "                             key=lambda i: similarities[i],\n",
        "                             reverse=True)[:3]\n",
        "        relevant_chunks = [chunks[i] for i in top_3_indices]\n",
        "\n",
        "        messages = [\n",
        "            validate_context,\n",
        "            HumanMessage(content=f\"\"\"\n",
        "            Criteria:\n",
        "            {chr(10).join(f\"- {c}\" for c in checkpoint.criteria)}\n",
        "\n",
        "            Context:\n",
        "            {chr(10).join(relevant_chunks)}\n",
        "            \"\"\")\n",
        "        ]\n",
        "\n",
        "        response = structured_llm.invoke(messages)\n",
        "        if response.is_in_context.lower() == \"no\":\n",
        "            checks.append(checkpoint)\n",
        "\n",
        "    if checks:\n",
        "        structured_llm = llm.with_structured_output(SearchQuery)\n",
        "        checkpoints_message = generate_checkpoint_message(checks)\n",
        "\n",
        "        messages = [checkpoint_based_query_generator, checkpoints_message]\n",
        "        search_queries = structured_llm.invoke(messages)\n",
        "        return {\"search_queries\": search_queries}\n",
        "\n",
        "    return {\"search_queries\": None}\n",
        "\n",
        "def generate_question(state: LearningtState):\n",
        "    \"\"\"Generates assessment questions based on current checkpoint verification requirements.\"\"\"\n",
        "    structured_llm = llm.with_structured_output(QuestionOutput)\n",
        "    current_checkpoint = state['current_checkpoint']\n",
        "    checkpoint_info = state['checkpoints'].checkpoints[current_checkpoint]\n",
        "\n",
        "    messages = [\n",
        "        question_generator,\n",
        "        HumanMessage(content=f\"\"\"\n",
        "        Checkpoint Description: {checkpoint_info.description}\n",
        "        Success Criteria:\n",
        "        {chr(10).join(f\"- {c}\" for c in checkpoint_info.criteria)}\n",
        "        Verification Method: {checkpoint_info.verification}\n",
        "\n",
        "        Generate an appropriate verification question.\"\"\")\n",
        "    ]\n",
        "\n",
        "    question_output = structured_llm.invoke(messages)\n",
        "    return {\"current_question\": question_output.question}\n",
        "\n",
        "def verify_answer(state: LearningtState):\n",
        "    \"\"\"Evaluates user answers against checkpoint criteria using relevant context chunks.\"\"\"\n",
        "    structured_llm = llm.with_structured_output(LearningVerification)\n",
        "    current_checkpoint = state['current_checkpoint']\n",
        "    checkpoint_info = state['checkpoints'].checkpoints[current_checkpoint]\n",
        "\n",
        "    context = context_store.get_context(state['context_key'])\n",
        "    chunks = context['chunks']\n",
        "    chunk_embeddings = context['embeddings']\n",
        "\n",
        "    query = embeddings.embed_query(checkpoint_info.verification)\n",
        "\n",
        "    similarities = cosine_similarity([query], chunk_embeddings)[0]\n",
        "    top_3_indices = sorted(range(len(similarities)),\n",
        "                         key=lambda i: similarities[i],\n",
        "                         reverse=True)[:3]\n",
        "    relevant_chunks = [chunks[i] for i in top_3_indices]\n",
        "\n",
        "    messages = [\n",
        "        answer_verifier,\n",
        "        HumanMessage(content=f\"\"\"\n",
        "        Question: {state['current_question']}\n",
        "        Answer: {state['current_answer']}\n",
        "\n",
        "        Checkpoint Description: {checkpoint_info.description}\n",
        "        Success Criteria:\n",
        "        {chr(10).join(f\"- {c}\" for c in checkpoint_info.criteria)}\n",
        "        Verification Method: {checkpoint_info.verification}\n",
        "\n",
        "        Context:\n",
        "        {chr(10).join(relevant_chunks)}\n",
        "\n",
        "        Assess the answer.\"\"\")\n",
        "    ]\n",
        "\n",
        "    verification = structured_llm.invoke(messages)\n",
        "    return {\"verifications\": verification}\n",
        "\n",
        "def teach_concept(state: LearningtState):\n",
        "    \"\"\"Creates simplified Feynman-style explanations for concepts that need reinforcement.\"\"\"\n",
        "    structured_llm = llm.with_structured_output(FeynmanTeaching)\n",
        "    current_checkpoint = state['current_checkpoint']\n",
        "    checkpoint_info = state['checkpoints'].checkpoints[current_checkpoint]\n",
        "\n",
        "    messages = [\n",
        "        feynman_teacher,\n",
        "        HumanMessage(content=f\"\"\"\n",
        "        Criteria: {checkpoint_info.criteria}\n",
        "        Verification: {state['verifications']}\n",
        "\n",
        "        Context:\n",
        "        {state['context_chunks']}\n",
        "\n",
        "        Create a Feynman teaching explanation.\"\"\")\n",
        "    ]\n",
        "\n",
        "    teaching = structured_llm.invoke(messages)\n",
        "    return {\"teachings\": teaching}"
      ]
    },
    {
      "cell_type": "markdown",
      "id": "e0db57b9-281e-465f-97e2-9fd10279d8d3",
      "metadata": {
        "id": "e0db57b9-281e-465f-97e2-9fd10279d8d3"
      },
      "source": [
        "## Helper State Management Functions\n",
        "Here we define two auxiliary functions that manage the learning flow:\n",
        "\n",
        "1. `user_answer`: Placeholder for collecting user responses to verification questions\n",
        "2. `next_checkpoint`: Increments the checkpoint counter to progress through learning milestones"
      ]
    },
    {
      "cell_type": "code",
      "execution_count": 16,
      "id": "ddd5e79a-d675-476b-b52e-c8ced9d4ed05",
      "metadata": {
        "id": "ddd5e79a-d675-476b-b52e-c8ced9d4ed05"
      },
      "outputs": [],
      "source": [
        "def user_answer(state: LearningtState):\n",
        "    \"\"\"Placeholder for handling user's answer input.\"\"\"\n",
        "    pass\n",
        "\n",
        "def next_checkpoint(state: LearningtState):\n",
        "    \"\"\"Advances to the next checkpoint in the learning sequence.\"\"\"\n",
        "    current_checkpoint = state['current_checkpoint'] + 1\n",
        "    return {'current_checkpoint': current_checkpoint}"
      ]
    },
    {
      "cell_type": "markdown",
      "id": "bf396447-7a62-477c-b7ff-73ceb7cd2457",
      "metadata": {
        "id": "bf396447-7a62-477c-b7ff-73ceb7cd2457"
      },
      "source": [
        "## Routing Logic Functions\n",
        "Four routing functions control the agent's workflow:\n",
        "\n",
        "1. `route_context`: Manages context processing vs. query generation\n",
        "2. `route_verification`: Directs flow based on understanding level (70% threshold)\n",
        "3. `route_teaching`: Handles post-teaching progression\n",
        "4. `route_search`: Back to search if context is irrelevant"
      ]
    },
    {
      "cell_type": "code",
      "execution_count": 17,
      "id": "98026d70-35c1-4efc-bbe0-08178e0953a6",
      "metadata": {
        "id": "98026d70-35c1-4efc-bbe0-08178e0953a6"
      },
      "outputs": [],
      "source": [
        "def route_context(state: LearningtState):\n",
        "    \"\"\"Determines whether to process existing context or generate new search queries.\"\"\"\n",
        "    if state.get(\"context\"):\n",
        "        return 'chunk_context'\n",
        "    return 'generate_query'\n",
        "\n",
        "def route_verification(state: LearningtState):\n",
        "    \"\"\"Determines next step based on verification results and checkpoint progress.\"\"\"\n",
        "    current_checkpoint = state['current_checkpoint']\n",
        "\n",
        "    if state['verifications'].understanding_level < 0.7:\n",
        "        return 'teach_concept'\n",
        "\n",
        "    if current_checkpoint + 1 < len(state['checkpoints'].checkpoints):\n",
        "        return 'next_checkpoint'\n",
        "\n",
        "    return END\n",
        "\n",
        "def route_teaching(state: LearningtState):\n",
        "    \"\"\"Routes to next checkpoint or ends session after teaching intervention.\"\"\"\n",
        "    current_checkpoint = state['current_checkpoint']\n",
        "    if current_checkpoint + 1 < len(state['checkpoints'].checkpoints):\n",
        "        return 'next_checkpoint'\n",
        "    return END\n",
        "\n",
        "def route_search(state: LearningtState):\n",
        "    \"\"\"Directs flow between question generation and web search based on query status.\"\"\"\n",
        "    if state['search_queries'] is None:\n",
        "        return \"generate_question\"\n",
        "    return \"search_web\""
      ]
    },
    {
      "cell_type": "markdown",
      "id": "99e2154b-f06e-45e9-a0d8-fa112623e4ef",
      "metadata": {
        "id": "99e2154b-f06e-45e9-a0d8-fa112623e4ef"
      },
      "source": [
        "## Building the Learning Flow Graph\n",
        "Here we construct the complete graph structure for our adaptive learning system using LangGraph. The graph defines:\n",
        "\n",
        "1. **Node Setup**\n",
        "  - Core processing nodes (generate_query, search_web, chunk_context, context_validation)\n",
        "  - Learning management nodes (generate_checkpoints, generate_question)\n",
        "  - Interactive nodes (user_answer)\n",
        "  - Evaluation nodes (verify_answer, teach_concept)\n",
        "\n",
        "2. **Flow Definition**\n",
        "  - Starting point (generate_checkpoints)\n",
        "  - Conditional paths based on context availability and verification results\n",
        "  - Interactive breaks for user input\n",
        "\n",
        "3. **Graph Configuration**\n",
        "  - Uses MemorySaver for persistence\n",
        "  - Uses ContextStore to keep embeddings\n",
        "  - Includes human in the loop strategy"
      ]
    },
    {
      "cell_type": "code",
      "execution_count": 18,
      "id": "5d42bb27-9e0b-4fe6-9bdf-3f2a289ec4da",
      "metadata": {
        "id": "5d42bb27-9e0b-4fe6-9bdf-3f2a289ec4da",
        "outputId": "b6f0867d-718e-42dc-e1ff-5c200f62dd8d",
        "colab": {
          "base_uri": "https://localhost:8080/",
          "height": 582
        }
      },
      "outputs": [
        {
          "output_type": "error",
          "ename": "ReadTimeout",
          "evalue": "HTTPSConnectionPool(host='mermaid.ink', port=443): Read timed out. (read timeout=10)",
          "traceback": [
            "\u001b[0;31m---------------------------------------------------------------------------\u001b[0m",
            "\u001b[0;31mTimeoutError\u001b[0m                              Traceback (most recent call last)",
            "\u001b[0;32m/usr/local/lib/python3.11/dist-packages/urllib3/connectionpool.py\u001b[0m in \u001b[0;36m_make_request\u001b[0;34m(self, conn, method, url, body, headers, retries, timeout, chunked, response_conn, preload_content, decode_content, enforce_content_length)\u001b[0m\n\u001b[1;32m    533\u001b[0m         \u001b[0;32mtry\u001b[0m\u001b[0;34m:\u001b[0m\u001b[0;34m\u001b[0m\u001b[0;34m\u001b[0m\u001b[0m\n\u001b[0;32m--> 534\u001b[0;31m             \u001b[0mresponse\u001b[0m \u001b[0;34m=\u001b[0m \u001b[0mconn\u001b[0m\u001b[0;34m.\u001b[0m\u001b[0mgetresponse\u001b[0m\u001b[0;34m(\u001b[0m\u001b[0;34m)\u001b[0m\u001b[0;34m\u001b[0m\u001b[0;34m\u001b[0m\u001b[0m\n\u001b[0m\u001b[1;32m    535\u001b[0m         \u001b[0;32mexcept\u001b[0m \u001b[0;34m(\u001b[0m\u001b[0mBaseSSLError\u001b[0m\u001b[0;34m,\u001b[0m \u001b[0mOSError\u001b[0m\u001b[0;34m)\u001b[0m \u001b[0;32mas\u001b[0m \u001b[0me\u001b[0m\u001b[0;34m:\u001b[0m\u001b[0;34m\u001b[0m\u001b[0;34m\u001b[0m\u001b[0m\n",
            "\u001b[0;32m/usr/local/lib/python3.11/dist-packages/urllib3/connection.py\u001b[0m in \u001b[0;36mgetresponse\u001b[0;34m(self)\u001b[0m\n\u001b[1;32m    515\u001b[0m         \u001b[0;31m# Get the response from http.client.HTTPConnection\u001b[0m\u001b[0;34m\u001b[0m\u001b[0;34m\u001b[0m\u001b[0m\n\u001b[0;32m--> 516\u001b[0;31m         \u001b[0mhttplib_response\u001b[0m \u001b[0;34m=\u001b[0m \u001b[0msuper\u001b[0m\u001b[0;34m(\u001b[0m\u001b[0;34m)\u001b[0m\u001b[0;34m.\u001b[0m\u001b[0mgetresponse\u001b[0m\u001b[0;34m(\u001b[0m\u001b[0;34m)\u001b[0m\u001b[0;34m\u001b[0m\u001b[0;34m\u001b[0m\u001b[0m\n\u001b[0m\u001b[1;32m    517\u001b[0m \u001b[0;34m\u001b[0m\u001b[0m\n",
            "\u001b[0;32m/usr/lib/python3.11/http/client.py\u001b[0m in \u001b[0;36mgetresponse\u001b[0;34m(self)\u001b[0m\n\u001b[1;32m   1394\u001b[0m             \u001b[0;32mtry\u001b[0m\u001b[0;34m:\u001b[0m\u001b[0;34m\u001b[0m\u001b[0;34m\u001b[0m\u001b[0m\n\u001b[0;32m-> 1395\u001b[0;31m                 \u001b[0mresponse\u001b[0m\u001b[0;34m.\u001b[0m\u001b[0mbegin\u001b[0m\u001b[0;34m(\u001b[0m\u001b[0;34m)\u001b[0m\u001b[0;34m\u001b[0m\u001b[0;34m\u001b[0m\u001b[0m\n\u001b[0m\u001b[1;32m   1396\u001b[0m             \u001b[0;32mexcept\u001b[0m \u001b[0mConnectionError\u001b[0m\u001b[0;34m:\u001b[0m\u001b[0;34m\u001b[0m\u001b[0;34m\u001b[0m\u001b[0m\n",
            "\u001b[0;32m/usr/lib/python3.11/http/client.py\u001b[0m in \u001b[0;36mbegin\u001b[0;34m(self)\u001b[0m\n\u001b[1;32m    324\u001b[0m         \u001b[0;32mwhile\u001b[0m \u001b[0;32mTrue\u001b[0m\u001b[0;34m:\u001b[0m\u001b[0;34m\u001b[0m\u001b[0;34m\u001b[0m\u001b[0m\n\u001b[0;32m--> 325\u001b[0;31m             \u001b[0mversion\u001b[0m\u001b[0;34m,\u001b[0m \u001b[0mstatus\u001b[0m\u001b[0;34m,\u001b[0m \u001b[0mreason\u001b[0m \u001b[0;34m=\u001b[0m \u001b[0mself\u001b[0m\u001b[0;34m.\u001b[0m\u001b[0m_read_status\u001b[0m\u001b[0;34m(\u001b[0m\u001b[0;34m)\u001b[0m\u001b[0;34m\u001b[0m\u001b[0;34m\u001b[0m\u001b[0m\n\u001b[0m\u001b[1;32m    326\u001b[0m             \u001b[0;32mif\u001b[0m \u001b[0mstatus\u001b[0m \u001b[0;34m!=\u001b[0m \u001b[0mCONTINUE\u001b[0m\u001b[0;34m:\u001b[0m\u001b[0;34m\u001b[0m\u001b[0;34m\u001b[0m\u001b[0m\n",
            "\u001b[0;32m/usr/lib/python3.11/http/client.py\u001b[0m in \u001b[0;36m_read_status\u001b[0;34m(self)\u001b[0m\n\u001b[1;32m    285\u001b[0m     \u001b[0;32mdef\u001b[0m \u001b[0m_read_status\u001b[0m\u001b[0;34m(\u001b[0m\u001b[0mself\u001b[0m\u001b[0;34m)\u001b[0m\u001b[0;34m:\u001b[0m\u001b[0;34m\u001b[0m\u001b[0;34m\u001b[0m\u001b[0m\n\u001b[0;32m--> 286\u001b[0;31m         \u001b[0mline\u001b[0m \u001b[0;34m=\u001b[0m \u001b[0mstr\u001b[0m\u001b[0;34m(\u001b[0m\u001b[0mself\u001b[0m\u001b[0;34m.\u001b[0m\u001b[0mfp\u001b[0m\u001b[0;34m.\u001b[0m\u001b[0mreadline\u001b[0m\u001b[0;34m(\u001b[0m\u001b[0m_MAXLINE\u001b[0m \u001b[0;34m+\u001b[0m \u001b[0;36m1\u001b[0m\u001b[0;34m)\u001b[0m\u001b[0;34m,\u001b[0m \u001b[0;34m\"iso-8859-1\"\u001b[0m\u001b[0;34m)\u001b[0m\u001b[0;34m\u001b[0m\u001b[0;34m\u001b[0m\u001b[0m\n\u001b[0m\u001b[1;32m    287\u001b[0m         \u001b[0;32mif\u001b[0m \u001b[0mlen\u001b[0m\u001b[0;34m(\u001b[0m\u001b[0mline\u001b[0m\u001b[0;34m)\u001b[0m \u001b[0;34m>\u001b[0m \u001b[0m_MAXLINE\u001b[0m\u001b[0;34m:\u001b[0m\u001b[0;34m\u001b[0m\u001b[0;34m\u001b[0m\u001b[0m\n",
            "\u001b[0;32m/usr/lib/python3.11/socket.py\u001b[0m in \u001b[0;36mreadinto\u001b[0;34m(self, b)\u001b[0m\n\u001b[1;32m    717\u001b[0m             \u001b[0;32mtry\u001b[0m\u001b[0;34m:\u001b[0m\u001b[0;34m\u001b[0m\u001b[0;34m\u001b[0m\u001b[0m\n\u001b[0;32m--> 718\u001b[0;31m                 \u001b[0;32mreturn\u001b[0m \u001b[0mself\u001b[0m\u001b[0;34m.\u001b[0m\u001b[0m_sock\u001b[0m\u001b[0;34m.\u001b[0m\u001b[0mrecv_into\u001b[0m\u001b[0;34m(\u001b[0m\u001b[0mb\u001b[0m\u001b[0;34m)\u001b[0m\u001b[0;34m\u001b[0m\u001b[0;34m\u001b[0m\u001b[0m\n\u001b[0m\u001b[1;32m    719\u001b[0m             \u001b[0;32mexcept\u001b[0m \u001b[0mtimeout\u001b[0m\u001b[0;34m:\u001b[0m\u001b[0;34m\u001b[0m\u001b[0;34m\u001b[0m\u001b[0m\n",
            "\u001b[0;32m/usr/lib/python3.11/ssl.py\u001b[0m in \u001b[0;36mrecv_into\u001b[0;34m(self, buffer, nbytes, flags)\u001b[0m\n\u001b[1;32m   1313\u001b[0m                   self.__class__)\n\u001b[0;32m-> 1314\u001b[0;31m             \u001b[0;32mreturn\u001b[0m \u001b[0mself\u001b[0m\u001b[0;34m.\u001b[0m\u001b[0mread\u001b[0m\u001b[0;34m(\u001b[0m\u001b[0mnbytes\u001b[0m\u001b[0;34m,\u001b[0m \u001b[0mbuffer\u001b[0m\u001b[0;34m)\u001b[0m\u001b[0;34m\u001b[0m\u001b[0;34m\u001b[0m\u001b[0m\n\u001b[0m\u001b[1;32m   1315\u001b[0m         \u001b[0;32melse\u001b[0m\u001b[0;34m:\u001b[0m\u001b[0;34m\u001b[0m\u001b[0;34m\u001b[0m\u001b[0m\n",
            "\u001b[0;32m/usr/lib/python3.11/ssl.py\u001b[0m in \u001b[0;36mread\u001b[0;34m(self, len, buffer)\u001b[0m\n\u001b[1;32m   1165\u001b[0m             \u001b[0;32mif\u001b[0m \u001b[0mbuffer\u001b[0m \u001b[0;32mis\u001b[0m \u001b[0;32mnot\u001b[0m \u001b[0;32mNone\u001b[0m\u001b[0;34m:\u001b[0m\u001b[0;34m\u001b[0m\u001b[0;34m\u001b[0m\u001b[0m\n\u001b[0;32m-> 1166\u001b[0;31m                 \u001b[0;32mreturn\u001b[0m \u001b[0mself\u001b[0m\u001b[0;34m.\u001b[0m\u001b[0m_sslobj\u001b[0m\u001b[0;34m.\u001b[0m\u001b[0mread\u001b[0m\u001b[0;34m(\u001b[0m\u001b[0mlen\u001b[0m\u001b[0;34m,\u001b[0m \u001b[0mbuffer\u001b[0m\u001b[0;34m)\u001b[0m\u001b[0;34m\u001b[0m\u001b[0;34m\u001b[0m\u001b[0m\n\u001b[0m\u001b[1;32m   1167\u001b[0m             \u001b[0;32melse\u001b[0m\u001b[0;34m:\u001b[0m\u001b[0;34m\u001b[0m\u001b[0;34m\u001b[0m\u001b[0m\n",
            "\u001b[0;31mTimeoutError\u001b[0m: The read operation timed out",
            "\nThe above exception was the direct cause of the following exception:\n",
            "\u001b[0;31mReadTimeoutError\u001b[0m                          Traceback (most recent call last)",
            "\u001b[0;32m/usr/local/lib/python3.11/dist-packages/requests/adapters.py\u001b[0m in \u001b[0;36msend\u001b[0;34m(self, request, stream, timeout, verify, cert, proxies)\u001b[0m\n\u001b[1;32m    666\u001b[0m         \u001b[0;32mtry\u001b[0m\u001b[0;34m:\u001b[0m\u001b[0;34m\u001b[0m\u001b[0;34m\u001b[0m\u001b[0m\n\u001b[0;32m--> 667\u001b[0;31m             resp = conn.urlopen(\n\u001b[0m\u001b[1;32m    668\u001b[0m                 \u001b[0mmethod\u001b[0m\u001b[0;34m=\u001b[0m\u001b[0mrequest\u001b[0m\u001b[0;34m.\u001b[0m\u001b[0mmethod\u001b[0m\u001b[0;34m,\u001b[0m\u001b[0;34m\u001b[0m\u001b[0;34m\u001b[0m\u001b[0m\n",
            "\u001b[0;32m/usr/local/lib/python3.11/dist-packages/urllib3/connectionpool.py\u001b[0m in \u001b[0;36murlopen\u001b[0;34m(self, method, url, body, headers, retries, redirect, assert_same_host, timeout, pool_timeout, release_conn, chunked, body_pos, preload_content, decode_content, **response_kw)\u001b[0m\n\u001b[1;32m    840\u001b[0m \u001b[0;34m\u001b[0m\u001b[0m\n\u001b[0;32m--> 841\u001b[0;31m             retries = retries.increment(\n\u001b[0m\u001b[1;32m    842\u001b[0m                 \u001b[0mmethod\u001b[0m\u001b[0;34m,\u001b[0m \u001b[0murl\u001b[0m\u001b[0;34m,\u001b[0m \u001b[0merror\u001b[0m\u001b[0;34m=\u001b[0m\u001b[0mnew_e\u001b[0m\u001b[0;34m,\u001b[0m \u001b[0m_pool\u001b[0m\u001b[0;34m=\u001b[0m\u001b[0mself\u001b[0m\u001b[0;34m,\u001b[0m \u001b[0m_stacktrace\u001b[0m\u001b[0;34m=\u001b[0m\u001b[0msys\u001b[0m\u001b[0;34m.\u001b[0m\u001b[0mexc_info\u001b[0m\u001b[0;34m(\u001b[0m\u001b[0;34m)\u001b[0m\u001b[0;34m[\u001b[0m\u001b[0;36m2\u001b[0m\u001b[0;34m]\u001b[0m\u001b[0;34m\u001b[0m\u001b[0;34m\u001b[0m\u001b[0m\n",
            "\u001b[0;32m/usr/local/lib/python3.11/dist-packages/urllib3/util/retry.py\u001b[0m in \u001b[0;36mincrement\u001b[0;34m(self, method, url, response, error, _pool, _stacktrace)\u001b[0m\n\u001b[1;32m    473\u001b[0m             \u001b[0;32mif\u001b[0m \u001b[0mread\u001b[0m \u001b[0;32mis\u001b[0m \u001b[0;32mFalse\u001b[0m \u001b[0;32mor\u001b[0m \u001b[0mmethod\u001b[0m \u001b[0;32mis\u001b[0m \u001b[0;32mNone\u001b[0m \u001b[0;32mor\u001b[0m \u001b[0;32mnot\u001b[0m \u001b[0mself\u001b[0m\u001b[0;34m.\u001b[0m\u001b[0m_is_method_retryable\u001b[0m\u001b[0;34m(\u001b[0m\u001b[0mmethod\u001b[0m\u001b[0;34m)\u001b[0m\u001b[0;34m:\u001b[0m\u001b[0;34m\u001b[0m\u001b[0;34m\u001b[0m\u001b[0m\n\u001b[0;32m--> 474\u001b[0;31m                 \u001b[0;32mraise\u001b[0m \u001b[0mreraise\u001b[0m\u001b[0;34m(\u001b[0m\u001b[0mtype\u001b[0m\u001b[0;34m(\u001b[0m\u001b[0merror\u001b[0m\u001b[0;34m)\u001b[0m\u001b[0;34m,\u001b[0m \u001b[0merror\u001b[0m\u001b[0;34m,\u001b[0m \u001b[0m_stacktrace\u001b[0m\u001b[0;34m)\u001b[0m\u001b[0;34m\u001b[0m\u001b[0;34m\u001b[0m\u001b[0m\n\u001b[0m\u001b[1;32m    475\u001b[0m             \u001b[0;32melif\u001b[0m \u001b[0mread\u001b[0m \u001b[0;32mis\u001b[0m \u001b[0;32mnot\u001b[0m \u001b[0;32mNone\u001b[0m\u001b[0;34m:\u001b[0m\u001b[0;34m\u001b[0m\u001b[0;34m\u001b[0m\u001b[0m\n",
            "\u001b[0;32m/usr/local/lib/python3.11/dist-packages/urllib3/util/util.py\u001b[0m in \u001b[0;36mreraise\u001b[0;34m(tp, value, tb)\u001b[0m\n\u001b[1;32m     38\u001b[0m             \u001b[0;32mraise\u001b[0m \u001b[0mvalue\u001b[0m\u001b[0;34m.\u001b[0m\u001b[0mwith_traceback\u001b[0m\u001b[0;34m(\u001b[0m\u001b[0mtb\u001b[0m\u001b[0;34m)\u001b[0m\u001b[0;34m\u001b[0m\u001b[0;34m\u001b[0m\u001b[0m\n\u001b[0;32m---> 39\u001b[0;31m         \u001b[0;32mraise\u001b[0m \u001b[0mvalue\u001b[0m\u001b[0;34m\u001b[0m\u001b[0;34m\u001b[0m\u001b[0m\n\u001b[0m\u001b[1;32m     40\u001b[0m     \u001b[0;32mfinally\u001b[0m\u001b[0;34m:\u001b[0m\u001b[0;34m\u001b[0m\u001b[0;34m\u001b[0m\u001b[0m\n",
            "\u001b[0;32m/usr/local/lib/python3.11/dist-packages/urllib3/connectionpool.py\u001b[0m in \u001b[0;36murlopen\u001b[0;34m(self, method, url, body, headers, retries, redirect, assert_same_host, timeout, pool_timeout, release_conn, chunked, body_pos, preload_content, decode_content, **response_kw)\u001b[0m\n\u001b[1;32m    786\u001b[0m             \u001b[0;31m# Make the request on the HTTPConnection object\u001b[0m\u001b[0;34m\u001b[0m\u001b[0;34m\u001b[0m\u001b[0m\n\u001b[0;32m--> 787\u001b[0;31m             response = self._make_request(\n\u001b[0m\u001b[1;32m    788\u001b[0m                 \u001b[0mconn\u001b[0m\u001b[0;34m,\u001b[0m\u001b[0;34m\u001b[0m\u001b[0;34m\u001b[0m\u001b[0m\n",
            "\u001b[0;32m/usr/local/lib/python3.11/dist-packages/urllib3/connectionpool.py\u001b[0m in \u001b[0;36m_make_request\u001b[0;34m(self, conn, method, url, body, headers, retries, timeout, chunked, response_conn, preload_content, decode_content, enforce_content_length)\u001b[0m\n\u001b[1;32m    535\u001b[0m         \u001b[0;32mexcept\u001b[0m \u001b[0;34m(\u001b[0m\u001b[0mBaseSSLError\u001b[0m\u001b[0;34m,\u001b[0m \u001b[0mOSError\u001b[0m\u001b[0;34m)\u001b[0m \u001b[0;32mas\u001b[0m \u001b[0me\u001b[0m\u001b[0;34m:\u001b[0m\u001b[0;34m\u001b[0m\u001b[0;34m\u001b[0m\u001b[0m\n\u001b[0;32m--> 536\u001b[0;31m             \u001b[0mself\u001b[0m\u001b[0;34m.\u001b[0m\u001b[0m_raise_timeout\u001b[0m\u001b[0;34m(\u001b[0m\u001b[0merr\u001b[0m\u001b[0;34m=\u001b[0m\u001b[0me\u001b[0m\u001b[0;34m,\u001b[0m \u001b[0murl\u001b[0m\u001b[0;34m=\u001b[0m\u001b[0murl\u001b[0m\u001b[0;34m,\u001b[0m \u001b[0mtimeout_value\u001b[0m\u001b[0;34m=\u001b[0m\u001b[0mread_timeout\u001b[0m\u001b[0;34m)\u001b[0m\u001b[0;34m\u001b[0m\u001b[0;34m\u001b[0m\u001b[0m\n\u001b[0m\u001b[1;32m    537\u001b[0m             \u001b[0;32mraise\u001b[0m\u001b[0;34m\u001b[0m\u001b[0;34m\u001b[0m\u001b[0m\n",
            "\u001b[0;32m/usr/local/lib/python3.11/dist-packages/urllib3/connectionpool.py\u001b[0m in \u001b[0;36m_raise_timeout\u001b[0;34m(self, err, url, timeout_value)\u001b[0m\n\u001b[1;32m    366\u001b[0m         \u001b[0;32mif\u001b[0m \u001b[0misinstance\u001b[0m\u001b[0;34m(\u001b[0m\u001b[0merr\u001b[0m\u001b[0;34m,\u001b[0m \u001b[0mSocketTimeout\u001b[0m\u001b[0;34m)\u001b[0m\u001b[0;34m:\u001b[0m\u001b[0;34m\u001b[0m\u001b[0;34m\u001b[0m\u001b[0m\n\u001b[0;32m--> 367\u001b[0;31m             raise ReadTimeoutError(\n\u001b[0m\u001b[1;32m    368\u001b[0m                 \u001b[0mself\u001b[0m\u001b[0;34m,\u001b[0m \u001b[0murl\u001b[0m\u001b[0;34m,\u001b[0m \u001b[0;34mf\"Read timed out. (read timeout={timeout_value})\"\u001b[0m\u001b[0;34m\u001b[0m\u001b[0;34m\u001b[0m\u001b[0m\n",
            "\u001b[0;31mReadTimeoutError\u001b[0m: HTTPSConnectionPool(host='mermaid.ink', port=443): Read timed out. (read timeout=10)",
            "\nDuring handling of the above exception, another exception occurred:\n",
            "\u001b[0;31mReadTimeout\u001b[0m                               Traceback (most recent call last)",
            "\u001b[0;32m<ipython-input-18-049c15f76cf4>\u001b[0m in \u001b[0;36m<cell line: 0>\u001b[0;34m()\u001b[0m\n\u001b[1;32m     48\u001b[0m \u001b[0mgraph\u001b[0m \u001b[0;34m=\u001b[0m \u001b[0msearcher\u001b[0m\u001b[0;34m.\u001b[0m\u001b[0mcompile\u001b[0m\u001b[0;34m(\u001b[0m\u001b[0minterrupt_after\u001b[0m\u001b[0;34m=\u001b[0m\u001b[0;34m[\u001b[0m\u001b[0;34m\"generate_checkpoints\"\u001b[0m\u001b[0;34m]\u001b[0m\u001b[0;34m,\u001b[0m \u001b[0minterrupt_before\u001b[0m\u001b[0;34m=\u001b[0m\u001b[0;34m[\u001b[0m\u001b[0;34m\"user_answer\"\u001b[0m\u001b[0;34m]\u001b[0m\u001b[0;34m,\u001b[0m \u001b[0mcheckpointer\u001b[0m\u001b[0;34m=\u001b[0m\u001b[0mmemory\u001b[0m\u001b[0;34m)\u001b[0m\u001b[0;34m\u001b[0m\u001b[0;34m\u001b[0m\u001b[0m\n\u001b[1;32m     49\u001b[0m \u001b[0;34m\u001b[0m\u001b[0m\n\u001b[0;32m---> 50\u001b[0;31m \u001b[0mdisplay\u001b[0m\u001b[0;34m(\u001b[0m\u001b[0mImage\u001b[0m\u001b[0;34m(\u001b[0m\u001b[0mgraph\u001b[0m\u001b[0;34m.\u001b[0m\u001b[0mget_graph\u001b[0m\u001b[0;34m(\u001b[0m\u001b[0mxray\u001b[0m\u001b[0;34m=\u001b[0m\u001b[0;36m1\u001b[0m\u001b[0;34m)\u001b[0m\u001b[0;34m.\u001b[0m\u001b[0mdraw_mermaid_png\u001b[0m\u001b[0;34m(\u001b[0m\u001b[0;34m)\u001b[0m\u001b[0;34m)\u001b[0m\u001b[0;34m)\u001b[0m\u001b[0;34m\u001b[0m\u001b[0;34m\u001b[0m\u001b[0m\n\u001b[0m",
            "\u001b[0;32m/usr/local/lib/python3.11/dist-packages/langchain_core/runnables/graph.py\u001b[0m in \u001b[0;36mdraw_mermaid_png\u001b[0;34m(self, curve_style, node_colors, wrap_label_n_words, output_file_path, draw_method, background_color, padding, frontmatter_config)\u001b[0m\n\u001b[1;32m    665\u001b[0m             \u001b[0mfrontmatter_config\u001b[0m\u001b[0;34m=\u001b[0m\u001b[0mfrontmatter_config\u001b[0m\u001b[0;34m,\u001b[0m\u001b[0;34m\u001b[0m\u001b[0;34m\u001b[0m\u001b[0m\n\u001b[1;32m    666\u001b[0m         )\n\u001b[0;32m--> 667\u001b[0;31m         return draw_mermaid_png(\n\u001b[0m\u001b[1;32m    668\u001b[0m             \u001b[0mmermaid_syntax\u001b[0m\u001b[0;34m=\u001b[0m\u001b[0mmermaid_syntax\u001b[0m\u001b[0;34m,\u001b[0m\u001b[0;34m\u001b[0m\u001b[0;34m\u001b[0m\u001b[0m\n\u001b[1;32m    669\u001b[0m             \u001b[0moutput_file_path\u001b[0m\u001b[0;34m=\u001b[0m\u001b[0moutput_file_path\u001b[0m\u001b[0;34m,\u001b[0m\u001b[0;34m\u001b[0m\u001b[0;34m\u001b[0m\u001b[0m\n",
            "\u001b[0;32m/usr/local/lib/python3.11/dist-packages/langchain_core/runnables/graph_mermaid.py\u001b[0m in \u001b[0;36mdraw_mermaid_png\u001b[0;34m(mermaid_syntax, output_file_path, draw_method, background_color, padding)\u001b[0m\n\u001b[1;32m    280\u001b[0m         )\n\u001b[1;32m    281\u001b[0m     \u001b[0;32melif\u001b[0m \u001b[0mdraw_method\u001b[0m \u001b[0;34m==\u001b[0m \u001b[0mMermaidDrawMethod\u001b[0m\u001b[0;34m.\u001b[0m\u001b[0mAPI\u001b[0m\u001b[0;34m:\u001b[0m\u001b[0;34m\u001b[0m\u001b[0;34m\u001b[0m\u001b[0m\n\u001b[0;32m--> 282\u001b[0;31m         img_bytes = _render_mermaid_using_api(\n\u001b[0m\u001b[1;32m    283\u001b[0m             \u001b[0mmermaid_syntax\u001b[0m\u001b[0;34m,\u001b[0m \u001b[0moutput_file_path\u001b[0m\u001b[0;34m,\u001b[0m \u001b[0mbackground_color\u001b[0m\u001b[0;34m\u001b[0m\u001b[0;34m\u001b[0m\u001b[0m\n\u001b[1;32m    284\u001b[0m         )\n",
            "\u001b[0;32m/usr/local/lib/python3.11/dist-packages/langchain_core/runnables/graph_mermaid.py\u001b[0m in \u001b[0;36m_render_mermaid_using_api\u001b[0;34m(mermaid_syntax, output_file_path, background_color, file_type)\u001b[0m\n\u001b[1;32m    398\u001b[0m         \u001b[0;34mf\"?type={file_type}&bgColor={background_color}\"\u001b[0m\u001b[0;34m\u001b[0m\u001b[0;34m\u001b[0m\u001b[0m\n\u001b[1;32m    399\u001b[0m     )\n\u001b[0;32m--> 400\u001b[0;31m     \u001b[0mresponse\u001b[0m \u001b[0;34m=\u001b[0m \u001b[0mrequests\u001b[0m\u001b[0;34m.\u001b[0m\u001b[0mget\u001b[0m\u001b[0;34m(\u001b[0m\u001b[0mimage_url\u001b[0m\u001b[0;34m,\u001b[0m \u001b[0mtimeout\u001b[0m\u001b[0;34m=\u001b[0m\u001b[0;36m10\u001b[0m\u001b[0;34m)\u001b[0m\u001b[0;34m\u001b[0m\u001b[0;34m\u001b[0m\u001b[0m\n\u001b[0m\u001b[1;32m    401\u001b[0m     \u001b[0;32mif\u001b[0m \u001b[0mresponse\u001b[0m\u001b[0;34m.\u001b[0m\u001b[0mstatus_code\u001b[0m \u001b[0;34m==\u001b[0m \u001b[0;36m200\u001b[0m\u001b[0;34m:\u001b[0m\u001b[0;34m\u001b[0m\u001b[0;34m\u001b[0m\u001b[0m\n\u001b[1;32m    402\u001b[0m         \u001b[0mimg_bytes\u001b[0m \u001b[0;34m=\u001b[0m \u001b[0mresponse\u001b[0m\u001b[0;34m.\u001b[0m\u001b[0mcontent\u001b[0m\u001b[0;34m\u001b[0m\u001b[0;34m\u001b[0m\u001b[0m\n",
            "\u001b[0;32m/usr/local/lib/python3.11/dist-packages/requests/api.py\u001b[0m in \u001b[0;36mget\u001b[0;34m(url, params, **kwargs)\u001b[0m\n\u001b[1;32m     71\u001b[0m     \"\"\"\n\u001b[1;32m     72\u001b[0m \u001b[0;34m\u001b[0m\u001b[0m\n\u001b[0;32m---> 73\u001b[0;31m     \u001b[0;32mreturn\u001b[0m \u001b[0mrequest\u001b[0m\u001b[0;34m(\u001b[0m\u001b[0;34m\"get\"\u001b[0m\u001b[0;34m,\u001b[0m \u001b[0murl\u001b[0m\u001b[0;34m,\u001b[0m \u001b[0mparams\u001b[0m\u001b[0;34m=\u001b[0m\u001b[0mparams\u001b[0m\u001b[0;34m,\u001b[0m \u001b[0;34m**\u001b[0m\u001b[0mkwargs\u001b[0m\u001b[0;34m)\u001b[0m\u001b[0;34m\u001b[0m\u001b[0;34m\u001b[0m\u001b[0m\n\u001b[0m\u001b[1;32m     74\u001b[0m \u001b[0;34m\u001b[0m\u001b[0m\n\u001b[1;32m     75\u001b[0m \u001b[0;34m\u001b[0m\u001b[0m\n",
            "\u001b[0;32m/usr/local/lib/python3.11/dist-packages/requests/api.py\u001b[0m in \u001b[0;36mrequest\u001b[0;34m(method, url, **kwargs)\u001b[0m\n\u001b[1;32m     57\u001b[0m     \u001b[0;31m# cases, and look like a memory leak in others.\u001b[0m\u001b[0;34m\u001b[0m\u001b[0;34m\u001b[0m\u001b[0m\n\u001b[1;32m     58\u001b[0m     \u001b[0;32mwith\u001b[0m \u001b[0msessions\u001b[0m\u001b[0;34m.\u001b[0m\u001b[0mSession\u001b[0m\u001b[0;34m(\u001b[0m\u001b[0;34m)\u001b[0m \u001b[0;32mas\u001b[0m \u001b[0msession\u001b[0m\u001b[0;34m:\u001b[0m\u001b[0;34m\u001b[0m\u001b[0;34m\u001b[0m\u001b[0m\n\u001b[0;32m---> 59\u001b[0;31m         \u001b[0;32mreturn\u001b[0m \u001b[0msession\u001b[0m\u001b[0;34m.\u001b[0m\u001b[0mrequest\u001b[0m\u001b[0;34m(\u001b[0m\u001b[0mmethod\u001b[0m\u001b[0;34m=\u001b[0m\u001b[0mmethod\u001b[0m\u001b[0;34m,\u001b[0m \u001b[0murl\u001b[0m\u001b[0;34m=\u001b[0m\u001b[0murl\u001b[0m\u001b[0;34m,\u001b[0m \u001b[0;34m**\u001b[0m\u001b[0mkwargs\u001b[0m\u001b[0;34m)\u001b[0m\u001b[0;34m\u001b[0m\u001b[0;34m\u001b[0m\u001b[0m\n\u001b[0m\u001b[1;32m     60\u001b[0m \u001b[0;34m\u001b[0m\u001b[0m\n\u001b[1;32m     61\u001b[0m \u001b[0;34m\u001b[0m\u001b[0m\n",
            "\u001b[0;32m/usr/local/lib/python3.11/dist-packages/requests/sessions.py\u001b[0m in \u001b[0;36mrequest\u001b[0;34m(self, method, url, params, data, headers, cookies, files, auth, timeout, allow_redirects, proxies, hooks, stream, verify, cert, json)\u001b[0m\n\u001b[1;32m    587\u001b[0m         }\n\u001b[1;32m    588\u001b[0m         \u001b[0msend_kwargs\u001b[0m\u001b[0;34m.\u001b[0m\u001b[0mupdate\u001b[0m\u001b[0;34m(\u001b[0m\u001b[0msettings\u001b[0m\u001b[0;34m)\u001b[0m\u001b[0;34m\u001b[0m\u001b[0;34m\u001b[0m\u001b[0m\n\u001b[0;32m--> 589\u001b[0;31m         \u001b[0mresp\u001b[0m \u001b[0;34m=\u001b[0m \u001b[0mself\u001b[0m\u001b[0;34m.\u001b[0m\u001b[0msend\u001b[0m\u001b[0;34m(\u001b[0m\u001b[0mprep\u001b[0m\u001b[0;34m,\u001b[0m \u001b[0;34m**\u001b[0m\u001b[0msend_kwargs\u001b[0m\u001b[0;34m)\u001b[0m\u001b[0;34m\u001b[0m\u001b[0;34m\u001b[0m\u001b[0m\n\u001b[0m\u001b[1;32m    590\u001b[0m \u001b[0;34m\u001b[0m\u001b[0m\n\u001b[1;32m    591\u001b[0m         \u001b[0;32mreturn\u001b[0m \u001b[0mresp\u001b[0m\u001b[0;34m\u001b[0m\u001b[0;34m\u001b[0m\u001b[0m\n",
            "\u001b[0;32m/usr/local/lib/python3.11/dist-packages/requests/sessions.py\u001b[0m in \u001b[0;36msend\u001b[0;34m(self, request, **kwargs)\u001b[0m\n\u001b[1;32m    701\u001b[0m \u001b[0;34m\u001b[0m\u001b[0m\n\u001b[1;32m    702\u001b[0m         \u001b[0;31m# Send the request\u001b[0m\u001b[0;34m\u001b[0m\u001b[0;34m\u001b[0m\u001b[0m\n\u001b[0;32m--> 703\u001b[0;31m         \u001b[0mr\u001b[0m \u001b[0;34m=\u001b[0m \u001b[0madapter\u001b[0m\u001b[0;34m.\u001b[0m\u001b[0msend\u001b[0m\u001b[0;34m(\u001b[0m\u001b[0mrequest\u001b[0m\u001b[0;34m,\u001b[0m \u001b[0;34m**\u001b[0m\u001b[0mkwargs\u001b[0m\u001b[0;34m)\u001b[0m\u001b[0;34m\u001b[0m\u001b[0;34m\u001b[0m\u001b[0m\n\u001b[0m\u001b[1;32m    704\u001b[0m \u001b[0;34m\u001b[0m\u001b[0m\n\u001b[1;32m    705\u001b[0m         \u001b[0;31m# Total elapsed time of the request (approximately)\u001b[0m\u001b[0;34m\u001b[0m\u001b[0;34m\u001b[0m\u001b[0m\n",
            "\u001b[0;32m/usr/local/lib/python3.11/dist-packages/requests/adapters.py\u001b[0m in \u001b[0;36msend\u001b[0;34m(self, request, stream, timeout, verify, cert, proxies)\u001b[0m\n\u001b[1;32m    711\u001b[0m                 \u001b[0;32mraise\u001b[0m \u001b[0mSSLError\u001b[0m\u001b[0;34m(\u001b[0m\u001b[0me\u001b[0m\u001b[0;34m,\u001b[0m \u001b[0mrequest\u001b[0m\u001b[0;34m=\u001b[0m\u001b[0mrequest\u001b[0m\u001b[0;34m)\u001b[0m\u001b[0;34m\u001b[0m\u001b[0;34m\u001b[0m\u001b[0m\n\u001b[1;32m    712\u001b[0m             \u001b[0;32melif\u001b[0m \u001b[0misinstance\u001b[0m\u001b[0;34m(\u001b[0m\u001b[0me\u001b[0m\u001b[0;34m,\u001b[0m \u001b[0mReadTimeoutError\u001b[0m\u001b[0;34m)\u001b[0m\u001b[0;34m:\u001b[0m\u001b[0;34m\u001b[0m\u001b[0;34m\u001b[0m\u001b[0m\n\u001b[0;32m--> 713\u001b[0;31m                 \u001b[0;32mraise\u001b[0m \u001b[0mReadTimeout\u001b[0m\u001b[0;34m(\u001b[0m\u001b[0me\u001b[0m\u001b[0;34m,\u001b[0m \u001b[0mrequest\u001b[0m\u001b[0;34m=\u001b[0m\u001b[0mrequest\u001b[0m\u001b[0;34m)\u001b[0m\u001b[0;34m\u001b[0m\u001b[0;34m\u001b[0m\u001b[0m\n\u001b[0m\u001b[1;32m    714\u001b[0m             \u001b[0;32melif\u001b[0m \u001b[0misinstance\u001b[0m\u001b[0;34m(\u001b[0m\u001b[0me\u001b[0m\u001b[0;34m,\u001b[0m \u001b[0m_InvalidHeader\u001b[0m\u001b[0;34m)\u001b[0m\u001b[0;34m:\u001b[0m\u001b[0;34m\u001b[0m\u001b[0;34m\u001b[0m\u001b[0m\n\u001b[1;32m    715\u001b[0m                 \u001b[0;32mraise\u001b[0m \u001b[0mInvalidHeader\u001b[0m\u001b[0;34m(\u001b[0m\u001b[0me\u001b[0m\u001b[0;34m,\u001b[0m \u001b[0mrequest\u001b[0m\u001b[0;34m=\u001b[0m\u001b[0mrequest\u001b[0m\u001b[0;34m)\u001b[0m\u001b[0;34m\u001b[0m\u001b[0;34m\u001b[0m\u001b[0m\n",
            "\u001b[0;31mReadTimeout\u001b[0m: HTTPSConnectionPool(host='mermaid.ink', port=443): Read timed out. (read timeout=10)"
          ]
        }
      ],
      "source": [
        "searcher = StateGraph(LearningtState)\n",
        "memory = MemorySaver()\n",
        "context_store = ContextStore()\n",
        "\n",
        "searcher.add_node(\"generate_query\", generate_query)\n",
        "searcher.add_node(\"search_web\", search_web)\n",
        "searcher.add_node(\"chunk_context\", chunk_context)\n",
        "searcher.add_node(\"context_validation\", context_validation)\n",
        "searcher.add_node(\"generate_checkpoints\", generate_checkpoints)\n",
        "searcher.add_node(\"generate_question\", generate_question)\n",
        "searcher.add_node(\"next_checkpoint\", next_checkpoint)\n",
        "searcher.add_node(\"user_answer\", user_answer)\n",
        "searcher.add_node(\"verify_answer\", verify_answer)\n",
        "searcher.add_node(\"teach_concept\", teach_concept)\n",
        "\n",
        "# Flow\n",
        "searcher.add_edge(START, \"generate_checkpoints\")\n",
        "searcher.add_conditional_edges('generate_checkpoints', route_context,['chunk_context', 'generate_query'])\n",
        "searcher.add_edge(\"generate_query\", \"search_web\")\n",
        "searcher.add_edge(\"search_web\", \"generate_question\")\n",
        "searcher.add_edge(\"chunk_context\", 'context_validation')\n",
        "searcher.add_conditional_edges('context_validation', route_search,['search_web', 'generate_question'])\n",
        "\n",
        "searcher.add_edge(\"generate_question\", \"user_answer\")\n",
        "searcher.add_edge(\"user_answer\", \"verify_answer\")\n",
        "searcher.add_conditional_edges(\n",
        "    \"verify_answer\",\n",
        "    route_verification,\n",
        "    {\n",
        "        \"next_checkpoint\": \"next_checkpoint\",\n",
        "        \"teach_concept\": \"teach_concept\",\n",
        "        END: END\n",
        "    }\n",
        ")\n",
        "\n",
        "searcher.add_conditional_edges(\n",
        "    \"teach_concept\",\n",
        "    route_teaching,\n",
        "    {\n",
        "        \"next_checkpoint\": \"next_checkpoint\",\n",
        "        END: END\n",
        "    }\n",
        ")\n",
        "searcher.add_edge(\"next_checkpoint\", \"generate_question\")\n",
        "\n",
        "\n",
        "\n",
        "graph = searcher.compile(interrupt_after=[\"generate_checkpoints\"], interrupt_before=[\"user_answer\"], checkpointer=memory)\n",
        "\n",
        "display(Image(graph.get_graph(xray=1).draw_mermaid_png()))"
      ]
    },
    {
      "cell_type": "markdown",
      "id": "98346036-35c7-497a-bb94-e415b4f6f230",
      "metadata": {
        "id": "98346036-35c7-497a-bb94-e415b4f6f230"
      },
      "source": [
        "# Agent Use Case - Learn Anemia from own note"
      ]
    },
    {
      "cell_type": "markdown",
      "id": "6e42dcf9-db91-450e-9c6f-f6f7d120d5ce",
      "metadata": {
        "id": "6e42dcf9-db91-450e-9c6f-f6f7d120d5ce"
      },
      "source": [
        "## Pretty print helper functions\n",
        "\n",
        "Helper functions to improve output readability and example visibility:"
      ]
    },
    {
      "cell_type": "code",
      "execution_count": null,
      "id": "c12b9dd9-8d43-49c8-9c7e-066c5e71e810",
      "metadata": {
        "jupyter": {
          "source_hidden": true
        },
        "id": "c12b9dd9-8d43-49c8-9c7e-066c5e71e810"
      },
      "outputs": [],
      "source": [
        "def print_checkpoints(event):\n",
        "    \"\"\"Pretty print checkpoints information with improved visual formatting\"\"\"\n",
        "    checkpoints = event.get('checkpoints', '')\n",
        "    if checkpoints:\n",
        "        print(\"\\n\" + \"=\" * 80)\n",
        "        print(\"🎯 LEARNING CHECKPOINTS OVERVIEW\".center(80))\n",
        "        print(\"=\" * 80 + \"\\n\")\n",
        "\n",
        "        for i, checkpoint in enumerate(checkpoints.checkpoints, 1):\n",
        "            # Checkpoint header with number\n",
        "            print(f\"📍 CHECKPOINT #{i}\".center(80))\n",
        "            print(\"─\" * 80 + \"\\n\")\n",
        "\n",
        "            # Description section with text wrapping\n",
        "            print(\"📝 Description:\")\n",
        "            print(\"─\" * 40)\n",
        "            words = checkpoint.description.split()\n",
        "            current_line = []\n",
        "            current_length = 0\n",
        "\n",
        "            for word in words:\n",
        "                if current_length + len(word) + 1 <= 70:\n",
        "                    current_line.append(word)\n",
        "                    current_length += len(word) + 1\n",
        "                else:\n",
        "                    print(f\"  {' '.join(current_line)}\")\n",
        "                    current_line = [word]\n",
        "                    current_length = len(word)\n",
        "\n",
        "            if current_line:\n",
        "                print(f\"  {' '.join(current_line)}\")\n",
        "            print()\n",
        "\n",
        "            # Success Criteria section\n",
        "            print(\"✅ Success Criteria:\")\n",
        "            print(\"─\" * 40)\n",
        "            for j, criterion in enumerate(checkpoint.criteria, 1):\n",
        "                # Wrap each criterion text\n",
        "                words = criterion.split()\n",
        "                current_line = []\n",
        "                current_length = 0\n",
        "                first_line = True\n",
        "\n",
        "                for word in words:\n",
        "                    if current_length + len(word) + 1 <= 66:  # Shorter width to account for numbering\n",
        "                        current_line.append(word)\n",
        "                        current_length += len(word) + 1\n",
        "                    else:\n",
        "                        if first_line:\n",
        "                            print(f\"  {j}. {' '.join(current_line)}\")\n",
        "                            first_line = False\n",
        "                        else:\n",
        "                            print(f\"     {' '.join(current_line)}\")\n",
        "                        current_line = [word]\n",
        "                        current_length = len(word)\n",
        "\n",
        "                if current_line:\n",
        "                    if first_line:\n",
        "                        print(f\"  {j}. {' '.join(current_line)}\")\n",
        "                    else:\n",
        "                        print(f\"     {' '.join(current_line)}\")\n",
        "            print()\n",
        "\n",
        "            # Verification Method section\n",
        "            print(\"🔍 Verification Method:\")\n",
        "            print(\"─\" * 40)\n",
        "            words = checkpoint.verification.split()\n",
        "            current_line = []\n",
        "            current_length = 0\n",
        "\n",
        "            for word in words:\n",
        "                if current_length + len(word) + 1 <= 70:\n",
        "                    current_line.append(word)\n",
        "                    current_length += len(word) + 1\n",
        "                else:\n",
        "                    print(f\"  {' '.join(current_line)}\")\n",
        "                    current_line = [word]\n",
        "                    current_length = len(word)\n",
        "\n",
        "            if current_line:\n",
        "                print(f\"  {' '.join(current_line)}\")\n",
        "            print()\n",
        "\n",
        "            # Separator between checkpoints\n",
        "            if i < len(checkpoints.checkpoints):\n",
        "                print(\"~\" * 80 + \"\\n\")\n",
        "\n",
        "        print(\"=\" * 80 + \"\\n\")\n",
        "\n",
        "def print_verification_results(event):\n",
        "    \"\"\"Pretty print verification results with improved formatting\"\"\"\n",
        "    verifications = event.get('verifications', '')\n",
        "    if verifications:\n",
        "        print(\"\\n\" + \"=\" * 50)\n",
        "        print(\"📊 VERIFICATION RESULTS\".center(50))\n",
        "        print(\"=\" * 50 + \"\\n\")\n",
        "\n",
        "        # Understanding Level with visual bar\n",
        "        understanding = verifications.understanding_level\n",
        "        bar_length = 20\n",
        "        filled_length = int(understanding * bar_length)\n",
        "        bar = \"█\" * filled_length + \"░\" * (bar_length - filled_length)\n",
        "\n",
        "        print(f\"📈 Understanding Level: [{bar}] {understanding * 100:.1f}%\\n\")\n",
        "\n",
        "        # Feedback section\n",
        "        print(\"💡 Feedback:\")\n",
        "        print(f\"{verifications.feedback}\\n\")\n",
        "\n",
        "        # Suggestions section\n",
        "        print(\"🎯 Suggestions:\")\n",
        "        for i, suggestion in enumerate(verifications.suggestions, 1):\n",
        "            print(f\"  {i}. {suggestion}\")\n",
        "        print()\n",
        "\n",
        "        # Context Alignment\n",
        "        print(\"🔍 Context Alignment:\")\n",
        "        print(f\"{verifications.context_alignment}\\n\")\n",
        "\n",
        "        print(\"-\" * 50 + \"\\n\")\n",
        "def print_teaching_results(event):\n",
        "    \"\"\"Pretty print Feynman teaching results with improved formatting\"\"\"\n",
        "    teachings = event.get('teachings', '')\n",
        "    if teachings:\n",
        "        print(\"\\n\" + \"=\" * 70)\n",
        "        print(\"🎓 FEYNMAN TEACHING EXPLANATION\".center(70))\n",
        "        print(\"=\" * 70 + \"\\n\")\n",
        "\n",
        "        # Simplified Explanation section\n",
        "        print(\"📚 SIMPLIFIED EXPLANATION:\")\n",
        "        print(\"─\" * 30)\n",
        "        # Split explanation into paragraphs for better readability\n",
        "        paragraphs = teachings.simplified_explanation.split('\\n')\n",
        "        for paragraph in paragraphs:\n",
        "            # Wrap text at 60 characters for better readability\n",
        "            words = paragraph.split()\n",
        "            lines = []\n",
        "            current_line = []\n",
        "            current_length = 0\n",
        "\n",
        "            for word in words:\n",
        "                if current_length + len(word) + 1 <= 60:\n",
        "                    current_line.append(word)\n",
        "                    current_length += len(word) + 1\n",
        "                else:\n",
        "                    lines.append(' '.join(current_line))\n",
        "                    current_line = [word]\n",
        "                    current_length = len(word)\n",
        "\n",
        "            if current_line:\n",
        "                lines.append(' '.join(current_line))\n",
        "\n",
        "            for line in lines:\n",
        "                print(f\"{line}\")\n",
        "            print()\n",
        "\n",
        "        # Key Concepts section\n",
        "        print(\"💡 KEY CONCEPTS:\")\n",
        "        print(\"─\" * 30)\n",
        "        for i, concept in enumerate(teachings.key_concepts, 1):\n",
        "            print(f\"  {i}. {concept}\")\n",
        "        print()\n",
        "\n",
        "        # Analogies section\n",
        "        print(\"🔄 ANALOGIES & EXAMPLES:\")\n",
        "        print(\"─\" * 30)\n",
        "        for i, analogy in enumerate(teachings.analogies, 1):\n",
        "            print(f\"  {i}. {analogy}\")\n",
        "        print()\n",
        "\n",
        "        print(\"=\" * 70 + \"\\n\")"
      ]
    },
    {
      "cell_type": "markdown",
      "id": "1644c25e-96d3-4a82-b948-a4d7457afe34",
      "metadata": {
        "id": "1644c25e-96d3-4a82-b948-a4d7457afe34"
      },
      "source": [
        "## Example School Note"
      ]
    },
    {
      "cell_type": "code",
      "execution_count": null,
      "id": "9dd3a5c4-beaf-4111-afc9-f30354115497",
      "metadata": {
        "id": "9dd3a5c4-beaf-4111-afc9-f30354115497"
      },
      "outputs": [],
      "source": [
        "note = \"\"\"Anemia: A Comprehensive Overview\n",
        "Definition\n",
        "Anemia is a medical condition characterized by a decrease in the total number of red blood cells (RBCs) or hemoglobin in the blood. This reduction leads to a diminished ability to carry oxygen to the body's tissues, affecting overall body function and health.\n",
        "Blood Components and Their Role\n",
        "Red blood cells, also known as erythrocytes, are fundamental components of blood that carry oxygen throughout the body. These cells contain hemoglobin, an iron-containing protein that gives blood its characteristic red color and is responsible for oxygen transport. The typical lifespan of a red blood cell is approximately 120 days, after which it must be replaced by new cells produced in the bone marrow.\n",
        "Types of Anemia\n",
        "Iron Deficiency Anemia represents the most prevalent form of anemia worldwide. It occurs due to insufficient iron intake or absorption, particularly affecting pregnant women, growing children, menstruating women, and individuals with poor nutritional intake.\n",
        "Vitamin Deficiency Anemia develops when the body lacks sufficient amounts of vitamin B12 or folate (vitamin B9). This deficiency can stem from dietary inadequacies or problems with nutrient absorption in the digestive system.\n",
        "Aplastic Anemia, though rare, presents a serious condition where the bone marrow fails to produce adequate blood cells. This form can be either inherited through genetic factors or acquired through various environmental causes or medical conditions.\n",
        "Hemolytic Anemia occurs when red blood cells are destroyed at a rate faster than the body can replace them. This condition may be inherited through genetic factors or acquired through various external causes.\n",
        "Clinical Manifestations\n",
        "Anemia manifests through various symptoms including persistent fatigue and weakness. Patients often present with pale or yellowish skin, experience shortness of breath, and may suffer from dizziness. Additional symptoms include irregular heartbeat patterns, frequent headaches, cold extremities, and occasional chest pain.\n",
        "Diagnostic Approach\n",
        "Diagnosis begins with a thorough physical examination by a healthcare provider. Blood tests form the cornerstone of diagnosis, including a Complete Blood Count (CBC), assessment of iron levels, vitamin B12 measurement, and folate level determination. These tests help identify the specific type of anemia and guide appropriate treatment.\n",
        "Treatment Strategies\n",
        "Dietary modification serves as a fundamental treatment approach. This involves increasing consumption of iron-rich foods such as red meat, dark leafy vegetables, legumes, and iron-fortified cereals.\n",
        "Supplementation often proves necessary and may include iron supplements, vitamin B12, or folic acid, depending on the underlying cause of anemia.\n",
        "Medical interventions become necessary in severe cases. Blood transfusions may be required for severe anemia, while bone marrow transplantation might be considered for cases of aplastic anemia.\n",
        "Preventive Measures\n",
        "Prevention centers on maintaining a balanced diet rich in essential nutrients, particularly iron, vitamin B12, folate, and vitamin C, which enhances iron absorption. Regular medical check-ups allow for early detection and intervention.\n",
        "Certain populations require special attention regarding prevention. These include pregnant women, menstruating women, growing children, individuals following vegetarian or vegan diets, and athletes who may have increased nutritional demands.\n",
        "Potential Complications\n",
        "Untreated anemia can lead to several serious complications. These include severe fatigue that impacts daily activities, complications during pregnancy, cardiovascular problems, depression, and cognitive difficulties that may affect work or school performance.\n",
        "Clinical Significance\n",
        "Anemia often serves as an indicator of other underlying medical conditions. Therefore, early detection and appropriate treatment prove crucial for optimal outcomes. Different forms of anemia require specific treatment approaches, and regular monitoring may be necessary to ensure treatment effectiveness.\"\"\""
      ]
    },
    {
      "cell_type": "markdown",
      "id": "611d6d38-d036-48c3-a819-442e65a07a23",
      "metadata": {
        "id": "611d6d38-d036-48c3-a819-442e65a07a23"
      },
      "source": [
        "## Initial state"
      ]
    },
    {
      "cell_type": "code",
      "execution_count": null,
      "id": "08dec5ad-f0bf-493f-8e72-fe0409b5c9db",
      "metadata": {
        "id": "08dec5ad-f0bf-493f-8e72-fe0409b5c9db"
      },
      "outputs": [],
      "source": [
        "initial_input = {\n",
        "    \"topic\": \"Anemia\",\n",
        "    'goals': ['Im medical student, i want to master the diagnosis of Anemia'],\n",
        "    'context': note,\n",
        "    'current_checkpoint': 0}"
      ]
    },
    {
      "cell_type": "markdown",
      "id": "9a2dfe81-c2da-47cc-b209-a0fbe611b493",
      "metadata": {
        "id": "9a2dfe81-c2da-47cc-b209-a0fbe611b493"
      },
      "source": [
        "## Generate learning checkpoints"
      ]
    },
    {
      "cell_type": "code",
      "execution_count": null,
      "id": "da6ab6f4-0fae-48a4-8c80-620d5c9e3a3a",
      "metadata": {
        "id": "da6ab6f4-0fae-48a4-8c80-620d5c9e3a3a",
        "outputId": "c592db92-e5bc-48ec-e51d-ebfc1edc8da7"
      },
      "outputs": [
        {
          "name": "stdout",
          "output_type": "stream",
          "text": [
            "\n",
            "================================================================================\n",
            "                        🎯 LEARNING CHECKPOINTS OVERVIEW                         \n",
            "================================================================================\n",
            "\n",
            "                                📍 CHECKPOINT #1                                 \n",
            "────────────────────────────────────────────────────────────────────────────────\n",
            "\n",
            "📝 Description:\n",
            "────────────────────────────────────────\n",
            "  Understand the basic concepts and types of anemia.\n",
            "\n",
            "✅ Success Criteria:\n",
            "────────────────────────────────────────\n",
            "  1. Define anemia and its general causes.\n",
            "  2. Identify the major types of anemia (e.g., iron deficiency,\n",
            "     vitamin B12 deficiency, hemolytic anemia).\n",
            "  3. Explain the physiological impact of anemia on the body.\n",
            "\n",
            "🔍 Verification Method:\n",
            "────────────────────────────────────────\n",
            "  Explain anemia in simple terms to a peer, including its definition,\n",
            "  causes, and types. Use examples to illustrate the physiological\n",
            "  effects of anemia on the body.\n",
            "\n",
            "~~~~~~~~~~~~~~~~~~~~~~~~~~~~~~~~~~~~~~~~~~~~~~~~~~~~~~~~~~~~~~~~~~~~~~~~~~~~~~~~\n",
            "\n",
            "                                📍 CHECKPOINT #2                                 \n",
            "────────────────────────────────────────────────────────────────────────────────\n",
            "\n",
            "📝 Description:\n",
            "────────────────────────────────────────\n",
            "  Apply diagnostic criteria to identify different types of anemia.\n",
            "\n",
            "✅ Success Criteria:\n",
            "────────────────────────────────────────\n",
            "  1. List the common symptoms and signs associated with each type of\n",
            "     anemia.\n",
            "  2. Interpret laboratory tests (e.g., CBC, reticulocyte count, iron\n",
            "     studies) to differentiate between types of anemia.\n",
            "  3. Describe the role of patient history and physical examination in\n",
            "     diagnosing anemia.\n",
            "\n",
            "🔍 Verification Method:\n",
            "────────────────────────────────────────\n",
            "  Present a case study to a peer, detailing the symptoms, lab results,\n",
            "  and diagnosis process for a specific type of anemia. Discuss how you\n",
            "  used diagnostic criteria to reach your conclusion.\n",
            "\n",
            "~~~~~~~~~~~~~~~~~~~~~~~~~~~~~~~~~~~~~~~~~~~~~~~~~~~~~~~~~~~~~~~~~~~~~~~~~~~~~~~~\n",
            "\n",
            "                                📍 CHECKPOINT #3                                 \n",
            "────────────────────────────────────────────────────────────────────────────────\n",
            "\n",
            "📝 Description:\n",
            "────────────────────────────────────────\n",
            "  Master the comprehensive approach to diagnosing anemia in clinical\n",
            "  practice.\n",
            "\n",
            "✅ Success Criteria:\n",
            "────────────────────────────────────────\n",
            "  1. Develop a systematic approach to evaluating a patient with\n",
            "     suspected anemia.\n",
            "  2. Integrate laboratory findings with clinical presentation to form\n",
            "     a differential diagnosis.\n",
            "  3. Formulate a management plan based on the type and severity of\n",
            "     anemia.\n",
            "\n",
            "🔍 Verification Method:\n",
            "────────────────────────────────────────\n",
            "  Conduct a mock patient interview and examination with a peer,\n",
            "  followed by a discussion on the differential diagnosis and management\n",
            "  plan. Reflect on the process and identify areas for improvement.\n",
            "\n",
            "================================================================================\n",
            "\n"
          ]
        }
      ],
      "source": [
        "thread = {\"configurable\": {\"thread_id\": \"20\"}}\n",
        "\n",
        "for event in graph.stream(initial_input, thread, stream_mode=\"values\"):\n",
        "    print_checkpoints(event)"
      ]
    },
    {
      "cell_type": "markdown",
      "id": "f81b3852-7d5e-4583-af32-21bdd77ea727",
      "metadata": {
        "id": "f81b3852-7d5e-4583-af32-21bdd77ea727"
      },
      "source": [
        "## Widget for checkpoin management"
      ]
    },
    {
      "cell_type": "code",
      "execution_count": null,
      "id": "b545f08e-2341-49fc-aae6-c49cb983aea5",
      "metadata": {
        "jupyter": {
          "source_hidden": true
        },
        "id": "b545f08e-2341-49fc-aae6-c49cb983aea5"
      },
      "outputs": [],
      "source": [
        "from typing import List\n",
        "import ipywidgets as widgets\n",
        "from IPython.display import display\n",
        "from pydantic import BaseModel\n",
        "\n",
        "def create_checkpoint_editor(checkpoints_model: Checkpoints):\n",
        "    \"\"\"\n",
        "    Creates an interactive checkpoint editor using a Pydantic model.\n",
        "\n",
        "    Args:\n",
        "        checkpoints_model: Pydantic model of Checkpoints class\n",
        "    \"\"\"\n",
        "    # Convert to list of dictionaries for easier editing\n",
        "    checkpoints = [cp.model_dump() for cp in checkpoints_model.checkpoints]\n",
        "    checkpoints_widgets = []\n",
        "    accepted_checkpoints = []\n",
        "\n",
        "    def create_criterion_widget(checkpoint_index: int, criterion_value: str = \"\", criterion_index: int = None):\n",
        "        \"\"\"Creates a widget for a single criterion with a delete button\"\"\"\n",
        "        criterion_container = widgets.HBox([\n",
        "            widgets.Text(\n",
        "                value=criterion_value,\n",
        "                description=f'{criterion_index + 1}.' if criterion_index is not None else 'New',\n",
        "                layout=widgets.Layout(width='85%')\n",
        "            ),\n",
        "            widgets.Button(\n",
        "                description='Delete',\n",
        "                button_style='danger',\n",
        "                layout=widgets.Layout(width='15%')\n",
        "            )\n",
        "        ])\n",
        "\n",
        "        def on_criterion_change(change):\n",
        "            nonlocal criterion_index\n",
        "            if criterion_index is not None:\n",
        "                checkpoints[checkpoint_index]['criteria'][criterion_index] = change['new']\n",
        "\n",
        "        def remove_criterion(b):\n",
        "            if criterion_index is not None:\n",
        "                checkpoints[checkpoint_index]['criteria'].pop(criterion_index)\n",
        "                update_checkpoint_widget(checkpoint_index)\n",
        "\n",
        "        criterion_container.children[0].observe(on_criterion_change, names='value')\n",
        "        criterion_container.children[1].on_click(remove_criterion)\n",
        "\n",
        "        return criterion_container\n",
        "\n",
        "    def create_checkpoint_widget(checkpoint: dict, index: int):\n",
        "        \"\"\"Creates a widget for a single checkpoint\"\"\"\n",
        "\n",
        "        def on_accept_change(change):\n",
        "            if change['new']:\n",
        "                accepted_checkpoints.append(index)\n",
        "            else:\n",
        "                if index in accepted_checkpoints:\n",
        "                    accepted_checkpoints.remove(index)\n",
        "\n",
        "        def on_description_change(change):\n",
        "            checkpoints[index]['description'] = change['new']\n",
        "\n",
        "        def on_verification_change(change):\n",
        "            checkpoints[index]['verification'] = change['new']\n",
        "\n",
        "        def add_criterion(b):\n",
        "            checkpoints[index]['criteria'].append(\"\")\n",
        "            update_checkpoint_widget(index)\n",
        "\n",
        "        def remove_checkpoint(b):\n",
        "            checkpoints.pop(index)\n",
        "            update_all_checkpoints()\n",
        "\n",
        "        # Header with checkbox and delete button\n",
        "        header = widgets.HBox([\n",
        "            widgets.HTML(f'<h3 style=\"margin: 0;\">Checkpoint {index + 1}</h3>'),\n",
        "            widgets.Checkbox(\n",
        "                value=False,\n",
        "                description='Accept',\n",
        "                indent=False,\n",
        "                layout=widgets.Layout(margin='5px 0 0 20px')\n",
        "            ),\n",
        "            widgets.Button(\n",
        "                description='Delete checkpoint',\n",
        "                button_style='danger',\n",
        "                layout=widgets.Layout(margin='0 0 0 20px')\n",
        "            )\n",
        "        ])\n",
        "\n",
        "        # Description\n",
        "        description = widgets.Textarea(\n",
        "            value=checkpoint['description'],\n",
        "            description='Description:',\n",
        "            layout=widgets.Layout(width='95%', height='60px')\n",
        "        )\n",
        "\n",
        "        # Criteria\n",
        "        criteria_label = widgets.HTML('<b>Criteria:</b>')\n",
        "        criteria_container = widgets.VBox([\n",
        "            create_criterion_widget(index, criterion, i)\n",
        "            for i, criterion in enumerate(checkpoint['criteria'])\n",
        "        ])\n",
        "\n",
        "        # Add criterion button\n",
        "        add_criterion_btn = widgets.Button(\n",
        "            description='Add criterion',\n",
        "            button_style='success',\n",
        "            layout=widgets.Layout(margin='10px 0')\n",
        "        )\n",
        "\n",
        "        # Verification\n",
        "        verification = widgets.Textarea(\n",
        "            value=checkpoint['verification'],\n",
        "            description='Verification:',\n",
        "            layout=widgets.Layout(width='95%', height='60px', margin='10px 0')\n",
        "        )\n",
        "\n",
        "        separator = widgets.HTML('<hr style=\"margin: 20px 0;\">')\n",
        "\n",
        "        # Combine all elements\n",
        "        checkpoint_widget = widgets.VBox([\n",
        "            header,\n",
        "            description,\n",
        "            criteria_label,\n",
        "            criteria_container,\n",
        "            add_criterion_btn,\n",
        "            verification,\n",
        "            separator\n",
        "        ])\n",
        "\n",
        "        # Add observers and handlers\n",
        "        header.children[1].observe(on_accept_change, names='value')\n",
        "        header.children[2].on_click(remove_checkpoint)\n",
        "        description.observe(on_description_change, names='value')\n",
        "        verification.observe(on_verification_change, names='value')\n",
        "        add_criterion_btn.on_click(add_criterion)\n",
        "\n",
        "        return checkpoint_widget\n",
        "\n",
        "    def update_checkpoint_widget(index: int):\n",
        "        \"\"\"Updates a single checkpoint widget\"\"\"\n",
        "        if 0 <= index < len(checkpoints):\n",
        "            checkpoints_widgets[index] = create_checkpoint_widget(checkpoints[index], index)\n",
        "            update_main_container()\n",
        "\n",
        "    def update_all_checkpoints():\n",
        "        \"\"\"Updates all checkpoint widgets\"\"\"\n",
        "        nonlocal checkpoints_widgets\n",
        "        checkpoints_widgets = [\n",
        "            create_checkpoint_widget(checkpoint, i)\n",
        "            for i, checkpoint in enumerate(checkpoints)\n",
        "        ]\n",
        "        update_main_container()\n",
        "\n",
        "    def add_new_checkpoint(b):\n",
        "        \"\"\"Adds a new checkpoint\"\"\"\n",
        "        checkpoints.append({\n",
        "            'description': '',\n",
        "            'criteria': [],\n",
        "            'verification': ''\n",
        "        })\n",
        "        update_all_checkpoints()\n",
        "\n",
        "    def get_pydantic_model() -> Checkpoints:\n",
        "        \"\"\"Converts the current editor state back to a Pydantic model\"\"\"\n",
        "        return Checkpoints(checkpoints=[\n",
        "            LearningCheckpoint(**checkpoint)\n",
        "            for checkpoint in checkpoints\n",
        "        ])\n",
        "\n",
        "    # Create initial checkpoint widgets\n",
        "    checkpoints_widgets = [\n",
        "        create_checkpoint_widget(checkpoint, i)\n",
        "        for i, checkpoint in enumerate(checkpoints)\n",
        "    ]\n",
        "\n",
        "    # Add new checkpoint button\n",
        "    add_checkpoint_btn = widgets.Button(\n",
        "        description='Add checkpoint',\n",
        "        button_style='success',\n",
        "        layout=widgets.Layout(margin='20px 0')\n",
        "    )\n",
        "    add_checkpoint_btn.on_click(add_new_checkpoint)\n",
        "\n",
        "    # Main container\n",
        "    main_container = widgets.VBox(\n",
        "        checkpoints_widgets + [add_checkpoint_btn],\n",
        "        layout=widgets.Layout(\n",
        "            padding='20px',\n",
        "            border='1px solid #ddd',\n",
        "            border_radius='5px'\n",
        "        )\n",
        "    )\n",
        "\n",
        "    def update_main_container():\n",
        "        \"\"\"Updates the main container\"\"\"\n",
        "        main_container.children = tuple(checkpoints_widgets + [add_checkpoint_btn])\n",
        "\n",
        "    # Add method to container to retrieve data later\n",
        "    main_container.get_model = get_pydantic_model\n",
        "\n",
        "    return main_container"
      ]
    },
    {
      "cell_type": "code",
      "execution_count": null,
      "id": "95e22b2b-1ef0-40c4-b5d1-5e20055ae03a",
      "metadata": {
        "id": "95e22b2b-1ef0-40c4-b5d1-5e20055ae03a"
      },
      "outputs": [],
      "source": [
        "checkpoints = event['checkpoints']"
      ]
    },
    {
      "cell_type": "code",
      "execution_count": null,
      "id": "0fef90d9-fc86-47c8-845b-c81af14a66a6",
      "metadata": {
        "id": "0fef90d9-fc86-47c8-845b-c81af14a66a6",
        "outputId": "f512d7ac-5254-4c07-91b8-2d4b9866cce0",
        "colab": {
          "referenced_widgets": [
            "58101b36ed6f49099e8fc89db88d0449"
          ]
        }
      },
      "outputs": [
        {
          "data": {
            "application/vnd.jupyter.widget-view+json": {
              "model_id": "58101b36ed6f49099e8fc89db88d0449",
              "version_major": 2,
              "version_minor": 0
            },
            "text/plain": [
              "VBox(children=(VBox(children=(HBox(children=(HTML(value='<h3 style=\"margin: 0;\">Checkpoint 1</h3>'), Checkbox(…"
            ]
          },
          "metadata": {},
          "output_type": "display_data"
        }
      ],
      "source": [
        "editor = create_checkpoint_editor(checkpoints)\n",
        "display(editor)"
      ]
    },
    {
      "cell_type": "markdown",
      "id": "bebd2492",
      "metadata": {
        "id": "bebd2492"
      },
      "source": [
        "## Widget preview - Human in the loop checkpoints modifications\n",
        "\n",
        "![Chiron Widget](https://github.com/NirDiamant/GenAI_Agents/blob/main/images/chiron_widget.png?raw=1)"
      ]
    },
    {
      "cell_type": "markdown",
      "id": "179a2b90-2ee2-43f7-b888-b4e1914798b9",
      "metadata": {
        "id": "179a2b90-2ee2-43f7-b888-b4e1914798b9"
      },
      "source": [
        "## Upade state with adjusted checkpoints"
      ]
    },
    {
      "cell_type": "code",
      "execution_count": null,
      "id": "186311ae-96e5-4164-8900-e6e6c05592ce",
      "metadata": {
        "id": "186311ae-96e5-4164-8900-e6e6c05592ce"
      },
      "outputs": [],
      "source": [
        "updated_model = editor.get_model()\n",
        "graph.update_state(thread, {\"checkpoints\": updated_model}, as_node=\"generate_checkpoints\")"
      ]
    },
    {
      "cell_type": "markdown",
      "id": "11661cd6-866b-4521-820b-ad8a013b9e38",
      "metadata": {
        "id": "11661cd6-866b-4521-820b-ad8a013b9e38"
      },
      "source": [
        "## Run agent with input after printing question\n",
        "\n",
        "example answer:\n",
        "Anemia is a medical condition characterized by a deficiency in the number or quality of red blood cells (RBCs) or a reduced amount of hemoglobin in these cells, which impairs the blood's ability to carry oxygen to the body’s tissues. In clinical practice, anemia is significant because it can lead to symptoms such as fatigue, weakness, dizziness, and shortness of breath, which may severely impact quality of life and, in severe cases, lead to life-threatening complications.\n",
        "\n",
        "Types of Anemia and Their Causes\n",
        "Iron Deficiency Anemia: This is the most common type of anemia, often caused by insufficient iron intake, blood loss (e.g., heavy menstruation or gastrointestinal bleeding), or poor iron absorption (due to conditions like celiac disease). Iron is essential for hemoglobin production, and a deficiency in iron leads to decreased hemoglobin levels, reducing oxygen delivery to tissues.\n",
        "\n",
        "Vitamin B12 or Folate Deficiency Anemia: This type of anemia, sometimes called megaloblastic anemia, occurs due to a deficiency in vitamin B12, folate, or both. These vitamins are crucial for DNA synthesis in red blood cells. Causes include poor dietary intake, absorption issues (e.g., pernicious anemia, which is due to the loss of stomach cells producing intrinsic factor needed for B12 absorption), or conditions affecting the small intestine.\n",
        "\n",
        "Hemolytic Anemia: This type of anemia is caused by the premature destruction of red blood cells, which can occur due to autoimmune diseases, genetic conditions (e.g., sickle cell disease or hereditary spherocytosis), infections, or certain medications. In hemolytic anemia, the bone marrow cannot keep up with the rapid loss of RBCs, resulting in low RBC counts and reduced oxygen-carrying capacity.\n",
        "\n",
        "Role of Hemoglobin in Diagnosing Anemia\n",
        "Hemoglobin is a protein in red blood cells that binds to oxygen and transports it throughout the body. In clinical practice, hemoglobin levels are crucial for diagnosing anemia, as low levels indicate insufficient oxygen-carrying capacity. A Complete Blood Count (CBC) test measures hemoglobin levels and provides insights into red blood cell count and size, helping identify the type and severity of anemia."
      ]
    },
    {
      "cell_type": "code",
      "execution_count": null,
      "id": "5a8d1a64-fcf1-4d17-ac88-4650ea9a532b",
      "metadata": {
        "id": "5a8d1a64-fcf1-4d17-ac88-4650ea9a532b",
        "outputId": "2df9e1e0-59a7-4f0f-c709-c0d024634888",
        "colab": {
          "referenced_widgets": [
            "c6006276b7bc459998470ead5e78abf8"
          ]
        }
      },
      "outputs": [
        {
          "name": "stderr",
          "output_type": "stream",
          "text": [
            "\u001b[32m2024-11-17 23:43:58 INFO semantic_chunkers.utils.logger Single document exceeds the maximum token limit of 512. Splitting to sentences before semantically merging.\u001b[0m\n"
          ]
        },
        {
          "data": {
            "application/vnd.jupyter.widget-view+json": {
              "model_id": "c6006276b7bc459998470ead5e78abf8",
              "version_major": 2,
              "version_minor": 0
            },
            "text/plain": [
              "  0%|          | 0/1 [00:00<?, ?it/s]"
            ]
          },
          "metadata": {},
          "output_type": "display_data"
        },
        {
          "name": "stdout",
          "output_type": "stream",
          "text": [
            "Imagine you are explaining anemia to a friend who has no medical background. How would you define anemia and describe its general causes? Can you identify and explain the major types of anemia, such as iron deficiency, vitamin B12 deficiency, and hemolytic anemia? Additionally, use examples to illustrate how anemia physiologically affects the body, ensuring your explanation is clear and easy to understand.\n"
          ]
        },
        {
          "name": "stdout",
          "output_type": "stream",
          "text": [
            "Answer the question above:  Anemia is a medical condition characterized by a deficiency in the number or quality of red blood cells (RBCs) or a reduced amount of hemoglobin in these cells, which impairs the blood's ability to carry oxygen to the body’s tissues. In clinical practice, anemia is significant because it can lead to symptoms such as fatigue, weakness, dizziness, and shortness of breath, which may severely impact quality of life and, in severe cases, lead to life-threatening complications.  Types of Anemia and Their Causes Iron Deficiency Anemia: This is the most common type of anemia, often caused by insufficient iron intake, blood loss (e.g., heavy menstruation or gastrointestinal bleeding), or poor iron absorption (due to conditions like celiac disease). Iron is essential for hemoglobin production, and a deficiency in iron leads to decreased hemoglobin levels, reducing oxygen delivery to tissues.  Vitamin B12 or Folate Deficiency Anemia: This type of anemia, sometimes called megaloblastic anemia, occurs due to a deficiency in vitamin B12, folate, or both. These vitamins are crucial for DNA synthesis in red blood cells. Causes include poor dietary intake, absorption issues (e.g., pernicious anemia, which is due to the loss of stomach cells producing intrinsic factor needed for B12 absorption), or conditions affecting the small intestine.  Hemolytic Anemia: This type of anemia is caused by the premature destruction of red blood cells, which can occur due to autoimmune diseases, genetic conditions (e.g., sickle cell disease or hereditary spherocytosis), infections, or certain medications. In hemolytic anemia, the bone marrow cannot keep up with the rapid loss of RBCs, resulting in low RBC counts and reduced oxygen-carrying capacity.  Role of Hemoglobin in Diagnosing Anemia Hemoglobin is a protein in red blood cells that binds to oxygen and transports it throughout the body. In clinical practice, hemoglobin levels are crucial for diagnosing anemia, as low levels indicate insufficient oxygen-carrying capacity. A Complete Blood Count (CBC) test measures hemoglobin levels and provides insights into red blood cell count and size, helping identify the type and severity of anemia.\n"
          ]
        }
      ],
      "source": [
        "for event in graph.stream(None, thread, stream_mode=\"values\"):\n",
        "    # Review\n",
        "    current_question = event.get('current_question', '')\n",
        "    if current_question:\n",
        "        print(current_question)\n",
        "\n",
        "answer_question = input(\"Answer the question above: \")"
      ]
    },
    {
      "cell_type": "markdown",
      "id": "cd42c4d8-77b4-43fc-a16f-e586f7d4d957",
      "metadata": {
        "id": "cd42c4d8-77b4-43fc-a16f-e586f7d4d957"
      },
      "source": [
        "## Update state with answered question"
      ]
    },
    {
      "cell_type": "code",
      "execution_count": null,
      "id": "b5a4f84f-2b69-4b17-8da8-592aa4d525fe",
      "metadata": {
        "id": "b5a4f84f-2b69-4b17-8da8-592aa4d525fe"
      },
      "outputs": [],
      "source": [
        "graph.update_state(thread, {\"current_answer\": answer_question}, as_node=\"user_answer\")"
      ]
    },
    {
      "cell_type": "markdown",
      "id": "08a007ab-bd9d-425a-a2fa-c5197a16a8dd",
      "metadata": {
        "id": "08a007ab-bd9d-425a-a2fa-c5197a16a8dd"
      },
      "source": [
        "## Run Agent and print the verification or/and teaching results"
      ]
    },
    {
      "cell_type": "code",
      "execution_count": null,
      "id": "2a01ec2a-2a34-40cd-8766-70b61c55ca3c",
      "metadata": {
        "id": "2a01ec2a-2a34-40cd-8766-70b61c55ca3c",
        "outputId": "43f34e4a-f29a-406a-c108-a15842c9c0f3"
      },
      "outputs": [
        {
          "name": "stdout",
          "output_type": "stream",
          "text": [
            "('verify_answer',)\n",
            "('verify_answer',)\n",
            "('generate_question',)\n",
            "('user_answer',)\n",
            "\n",
            "==================================================\n",
            "              📊 VERIFICATION RESULTS              \n",
            "==================================================\n",
            "\n",
            "📈 Understanding Level: [██████████████████░░] 90.0%\n",
            "\n",
            "💡 Feedback:\n",
            "The student's answer provides a comprehensive and clear explanation of anemia, its causes, and its types. The definition of anemia is accurate, highlighting the deficiency in red blood cells or hemoglobin and its impact on oxygen transport. The major types of anemia are correctly identified and explained, including iron deficiency, vitamin B12 deficiency, and hemolytic anemia. The physiological effects of anemia, such as fatigue and weakness, are mentioned, although the examples could be more detailed. The answer aligns well with the success criteria, demonstrating a strong understanding of the topic.\n",
            "\n",
            "🎯 Suggestions:\n",
            "  1. Provide more detailed examples of how anemia affects the body physiologically.\n",
            "  2. Simplify the language further to ensure it is accessible to someone with no medical background.\n",
            "  3. Include more examples of symptoms or scenarios to illustrate the impact of anemia.\n",
            "\n",
            "🔍 Context Alignment:\n",
            "False\n",
            "\n",
            "--------------------------------------------------\n",
            "\n"
          ]
        }
      ],
      "source": [
        "for event in graph.stream(None, thread, stream_mode=\"values\"):\n",
        "    print(graph.get_state(thread).next)\n",
        "\n",
        "print_verification_results(event)\n",
        "print_teaching_results(event)"
      ]
    },
    {
      "cell_type": "markdown",
      "id": "2a25340c-1afb-462a-9c53-ba8f849de488",
      "metadata": {
        "id": "2a25340c-1afb-462a-9c53-ba8f849de488"
      },
      "source": [
        "## Answer second question\n",
        "\n",
        "As we can see, we have additional context from the Tavily search, which we did not add at the initial context"
      ]
    },
    {
      "cell_type": "code",
      "execution_count": null,
      "id": "a53b791c-33ec-44a6-85aa-d690cdafcbd9",
      "metadata": {
        "id": "a53b791c-33ec-44a6-85aa-d690cdafcbd9",
        "outputId": "5788cea8-9641-4a37-c94a-0c2b49057244"
      },
      "outputs": [
        {
          "data": {
            "text/plain": [
              "['Context: LangGraph is a library within the LangChain ecosystem designed to tackle these challenges head-on. LangGraph provides a framework for defining, coordinating, and executing multiple LLM agents (or chains) in a structured manner. It simplifies the development process by enabling the creation of cyclical graphs, which are essential for developing\\n Source: https://www.datacamp.com/tutorial/langgraph-tutorial\\n',\n",
              " \"Context: Combining LangGraph with LangChain agents, agents can be both directed and cyclic. A Directed Acyclic Graph (DAG) is a type of graph used in computer science and mathematics. Here's a simple explanation: Directed: Each connection (or edge) between nodes (or vertices) has a direction, like a one-way street.\\n Source: https://cobusgreyling.substack.com/p/langgraph-from-langchain-explained\\n\",\n",
              " 'Context: LangGraph — Intuitively and Exhaustively Explained | by Daniel Warfield | Sep, 2024 | Towards Data Science LangGraph — Intuitively and Exhaustively Explained In this article we’ll explore “LangGraph”, a cutting-edge tool for making LLM agents that are actually useful. We’ll then discuss how LangGraph can be used to address these shortcomings to make more useful and maintainable agents. We’ll use this state graph to build an agent which is capable of performing a complex task which requires the agent to deal with natural conversation, hard rules, and application logic. By the end of this article you’ll understand why LangGraph exists, why it’s important, and how to use it within your own projects.\\n Source: https://towardsdatascience.com/langgraph-intuitively-and-exhaustively-explained-435ef706f0f9\\n']"
            ]
          },
          "execution_count": 28,
          "metadata": {},
          "output_type": "execute_result"
        }
      ],
      "source": [
        "context_store.get_context(event['context_key'])['chunks'][:3]"
      ]
    },
    {
      "cell_type": "markdown",
      "id": "1c1e8e8a-4331-4f3e-933e-79d33846afa1",
      "metadata": {
        "id": "1c1e8e8a-4331-4f3e-933e-79d33846afa1"
      },
      "source": [
        "## Take a look at the second question"
      ]
    },
    {
      "cell_type": "code",
      "execution_count": null,
      "id": "ffcd417f-5ace-4e69-aa05-3a10289fb583",
      "metadata": {
        "id": "ffcd417f-5ace-4e69-aa05-3a10289fb583",
        "outputId": "c4b084af-2983-4f41-8a5e-7b386fabf62e"
      },
      "outputs": [
        {
          "name": "stdout",
          "output_type": "stream",
          "text": [
            "Can you explain what Langgraph is and provide a clear definition of its basic concepts?\n"
          ]
        }
      ],
      "source": [
        "print(event['current_question'])"
      ]
    },
    {
      "cell_type": "code",
      "execution_count": null,
      "id": "0ee88abd-93e3-44de-9c80-37ccecdf7ce4",
      "metadata": {
        "id": "0ee88abd-93e3-44de-9c80-37ccecdf7ce4",
        "outputId": "49457d26-917f-4ab3-f766-461658e126f3"
      },
      "outputs": [
        {
          "name": "stdout",
          "output_type": "stream",
          "text": [
            "Answer the second question  I don't know :(\n"
          ]
        }
      ],
      "source": [
        "answer_question = input(\"Answer the second question \")"
      ]
    },
    {
      "cell_type": "code",
      "execution_count": null,
      "id": "df600a63-08da-40eb-a4d8-e703aaf49870",
      "metadata": {
        "id": "df600a63-08da-40eb-a4d8-e703aaf49870",
        "outputId": "cad438c0-c8e5-4c3e-d842-f6004f226eec"
      },
      "outputs": [
        {
          "data": {
            "text/plain": [
              "{'configurable': {'thread_id': '20',\n",
              "  'checkpoint_ns': '',\n",
              "  'checkpoint_id': '1efa5365-b346-6432-800b-085763bc9a0e'}}"
            ]
          },
          "execution_count": 31,
          "metadata": {},
          "output_type": "execute_result"
        }
      ],
      "source": [
        "graph.update_state(thread, {\"current_answer\": answer_question}, as_node=\"user_answer\")"
      ]
    },
    {
      "cell_type": "markdown",
      "id": "e0aa5cd6-1682-4863-b8ee-0f80cf4e2f85",
      "metadata": {
        "id": "e0aa5cd6-1682-4863-b8ee-0f80cf4e2f85"
      },
      "source": [
        "## Run agent, see how he treated our lack of knowledge"
      ]
    },
    {
      "cell_type": "code",
      "execution_count": null,
      "id": "a34d6c60-0d57-41a3-93a3-e068c6933b6d",
      "metadata": {
        "id": "a34d6c60-0d57-41a3-93a3-e068c6933b6d",
        "outputId": "97448705-d2de-46bc-9486-fdaac28d517f"
      },
      "outputs": [
        {
          "name": "stdout",
          "output_type": "stream",
          "text": [
            "('verify_answer',)\n",
            "('verify_answer',)\n",
            "()\n",
            "\n",
            "==================================================\n",
            "              📊 VERIFICATION RESULTS              \n",
            "==================================================\n",
            "\n",
            "📈 Understanding Level: [░░░░░░░░░░░░░░░░░░░░] 0.0%\n",
            "\n",
            "💡 Feedback:\n",
            "The student's answer does not demonstrate any understanding of Langgraph or its basic concepts. The response 'I don't know' indicates a lack of engagement with the material and an inability to provide any information related to the question or the context provided.\n",
            "\n",
            "🎯 Suggestions:\n",
            "  1. Review the context provided about Langgraph to understand its purpose and functionality.\n",
            "  2. Learn the key features of Langgraph, such as its ability to handle cycles, controllability, and persistence.\n",
            "  3. Understand how Langgraph differentiates itself from other LLM frameworks, particularly in its use of cyclical graphs.\n",
            "  4. Familiarize with the LangChain ecosystem and how Langgraph fits within it.\n",
            "\n",
            "🔍 Context Alignment:\n",
            "False\n",
            "\n",
            "--------------------------------------------------\n",
            "\n",
            "\n",
            "======================================================================\n",
            "                    🎓 FEYNMAN TEACHING EXPLANATION                    \n",
            "======================================================================\n",
            "\n",
            "📚 SIMPLIFIED EXPLANATION:\n",
            "──────────────────────────────\n",
            "LangGraph is like a toolkit for building smart digital\n",
            "helpers that can talk and work together. Imagine you have a\n",
            "group of robots, each with a different job, like one for\n",
            "answering questions, another for finding information, and\n",
            "another for making decisions. LangGraph helps you organize\n",
            "these robots so they can work together smoothly, even if\n",
            "they need to go back and forth to complete a task. It's part\n",
            "of a bigger system called LangChain, which is like a big\n",
            "toolbox for building these kinds of helpers. LangGraph is\n",
            "special because it lets these robots work in loops, which\n",
            "means they can repeat steps if needed, making them more\n",
            "flexible and efficient.\n",
            "\n",
            "💡 KEY CONCEPTS:\n",
            "──────────────────────────────\n",
            "  1. LangGraph is a framework for organizing and managing multiple LLM agents.\n",
            "  2. It allows for the creation of cyclical graphs, enabling agents to repeat tasks as needed.\n",
            "  3. LangGraph is part of the LangChain ecosystem, which provides tools for building intelligent agents.\n",
            "  4. It helps in coordinating complex workflows by allowing agents to communicate and work together.\n",
            "\n",
            "🔄 ANALOGIES & EXAMPLES:\n",
            "──────────────────────────────\n",
            "  1. Think of LangGraph as a conductor in an orchestra, ensuring all musicians (agents) play in harmony, even if they need to repeat parts of the music.\n",
            "  2. Imagine LangGraph as a project manager who organizes a team (agents) to work on a project, allowing them to revisit tasks if necessary to ensure everything is done correctly.\n",
            "  3. LangGraph is like a traffic controller, directing the flow of information between different agents, ensuring they can loop back if they miss something.\n",
            "\n",
            "======================================================================\n",
            "\n"
          ]
        }
      ],
      "source": [
        "for event in graph.stream(None, thread, stream_mode=\"values\"):\n",
        "    print(graph.get_state(thread).next)\n",
        "\n",
        "print_verification_results(event)\n",
        "print_teaching_results(event)"
      ]
    },
    {
      "cell_type": "code",
      "execution_count": null,
      "id": "20755b0c-7da0-42c0-b3bb-993cb4bcd728",
      "metadata": {
        "id": "20755b0c-7da0-42c0-b3bb-993cb4bcd728"
      },
      "outputs": [],
      "source": []
    }
  ],
  "metadata": {
    "kernelspec": {
      "display_name": "Python 3 (ipykernel)",
      "language": "python",
      "name": "python3"
    },
    "language_info": {
      "codemirror_mode": {
        "name": "ipython",
        "version": 3
      },
      "file_extension": ".py",
      "mimetype": "text/x-python",
      "name": "python",
      "nbconvert_exporter": "python",
      "pygments_lexer": "ipython3",
      "version": "3.12.3"
    },
    "colab": {
      "provenance": []
    }
  },
  "nbformat": 4,
  "nbformat_minor": 5
}